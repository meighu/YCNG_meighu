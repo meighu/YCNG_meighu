{
  "cells": [
    {
      "cell_type": "markdown",
      "metadata": {
        "id": "view-in-github",
        "colab_type": "text"
      },
      "source": [
        "<a href=\"https://colab.research.google.com/github/meighu/YCNG_meighu/blob/main/Baseline_logistic_regression.ipynb\" target=\"_parent\"><img src=\"https://colab.research.google.com/assets/colab-badge.svg\" alt=\"Open In Colab\"/></a>"
      ]
    },
    {
      "cell_type": "code",
      "execution_count": 1,
      "id": "e606bd93-606c-4b61-b9d7-b79c345df8f3",
      "metadata": {
        "colab": {
          "base_uri": "https://localhost:8080/"
        },
        "id": "e606bd93-606c-4b61-b9d7-b79c345df8f3",
        "outputId": "e787b33e-6493-46ae-df7f-c08045b55347"
      },
      "outputs": [
        {
          "output_type": "stream",
          "name": "stdout",
          "text": [
            "Looking in indexes: https://pypi.org/simple, https://us-python.pkg.dev/colab-wheels/public/simple/\n",
            "Collecting yahoofinancials\n",
            "  Downloading yahoofinancials-1.6.tar.gz (27 kB)\n",
            "Requirement already satisfied: beautifulsoup4 in /usr/local/lib/python3.7/dist-packages (from yahoofinancials) (4.6.3)\n",
            "Requirement already satisfied: pytz in /usr/local/lib/python3.7/dist-packages (from yahoofinancials) (2022.4)\n",
            "Building wheels for collected packages: yahoofinancials\n",
            "  Building wheel for yahoofinancials (setup.py) ... \u001b[?25l\u001b[?25hdone\n",
            "  Created wheel for yahoofinancials: filename=yahoofinancials-1.6-py3-none-any.whl size=15192 sha256=974185f312e7e622c86758c7fe7383e780f4f75536bcdf243a9ee17d482944cc\n",
            "  Stored in directory: /root/.cache/pip/wheels/4b/63/46/e7110bfee88685fe69e338d1b14d1748921862aa57b6705b60\n",
            "Successfully built yahoofinancials\n",
            "Installing collected packages: yahoofinancials\n",
            "Successfully installed yahoofinancials-1.6\n"
          ]
        }
      ],
      "source": [
        "!pip install yahoofinancials"
      ]
    },
    {
      "cell_type": "code",
      "execution_count": null,
      "id": "e07a7a74-2d63-4869-b4ef-9a9b3d5b9aa5",
      "metadata": {
        "colab": {
          "base_uri": "https://localhost:8080/"
        },
        "id": "e07a7a74-2d63-4869-b4ef-9a9b3d5b9aa5",
        "outputId": "0f817622-5490-4765-a0e1-47c8162690ec"
      },
      "outputs": [
        {
          "output_type": "stream",
          "name": "stdout",
          "text": [
            "Looking in indexes: https://pypi.org/simple, https://us-python.pkg.dev/colab-wheels/public/simple/\n",
            "Requirement already satisfied: pandas_datareader in /usr/local/lib/python3.7/dist-packages (0.9.0)\n",
            "Requirement already satisfied: requests>=2.19.0 in /usr/local/lib/python3.7/dist-packages (from pandas_datareader) (2.23.0)\n",
            "Requirement already satisfied: pandas>=0.23 in /usr/local/lib/python3.7/dist-packages (from pandas_datareader) (1.3.5)\n",
            "Requirement already satisfied: lxml in /usr/local/lib/python3.7/dist-packages (from pandas_datareader) (4.9.1)\n",
            "Requirement already satisfied: python-dateutil>=2.7.3 in /usr/local/lib/python3.7/dist-packages (from pandas>=0.23->pandas_datareader) (2.8.2)\n",
            "Requirement already satisfied: pytz>=2017.3 in /usr/local/lib/python3.7/dist-packages (from pandas>=0.23->pandas_datareader) (2022.4)\n",
            "Requirement already satisfied: numpy>=1.17.3 in /usr/local/lib/python3.7/dist-packages (from pandas>=0.23->pandas_datareader) (1.21.6)\n",
            "Requirement already satisfied: six>=1.5 in /usr/local/lib/python3.7/dist-packages (from python-dateutil>=2.7.3->pandas>=0.23->pandas_datareader) (1.15.0)\n",
            "Requirement already satisfied: chardet<4,>=3.0.2 in /usr/local/lib/python3.7/dist-packages (from requests>=2.19.0->pandas_datareader) (3.0.4)\n",
            "Requirement already satisfied: certifi>=2017.4.17 in /usr/local/lib/python3.7/dist-packages (from requests>=2.19.0->pandas_datareader) (2022.9.24)\n",
            "Requirement already satisfied: urllib3!=1.25.0,!=1.25.1,<1.26,>=1.21.1 in /usr/local/lib/python3.7/dist-packages (from requests>=2.19.0->pandas_datareader) (1.24.3)\n",
            "Requirement already satisfied: idna<3,>=2.5 in /usr/local/lib/python3.7/dist-packages (from requests>=2.19.0->pandas_datareader) (2.10)\n"
          ]
        }
      ],
      "source": [
        "pip install pandas_datareader"
      ]
    },
    {
      "cell_type": "code",
      "execution_count": null,
      "id": "01f4e4bb-6419-4ebe-8d58-0cf07df85f04",
      "metadata": {
        "colab": {
          "base_uri": "https://localhost:8080/"
        },
        "id": "01f4e4bb-6419-4ebe-8d58-0cf07df85f04",
        "outputId": "e564df40-5be2-436b-f3a6-1cd359c6623d"
      },
      "outputs": [
        {
          "output_type": "stream",
          "name": "stdout",
          "text": [
            "Looking in indexes: https://pypi.org/simple, https://us-python.pkg.dev/colab-wheels/public/simple/\n",
            "Collecting requests_html\n",
            "  Downloading requests_html-0.10.0-py3-none-any.whl (13 kB)\n",
            "Requirement already satisfied: bs4 in /usr/local/lib/python3.7/dist-packages (from requests_html) (0.0.1)\n",
            "Collecting pyppeteer>=0.0.14\n",
            "  Downloading pyppeteer-1.0.2-py3-none-any.whl (83 kB)\n",
            "\u001b[K     |████████████████████████████████| 83 kB 1.7 MB/s \n",
            "\u001b[?25hRequirement already satisfied: requests in /usr/local/lib/python3.7/dist-packages (from requests_html) (2.23.0)\n",
            "Collecting parse\n",
            "  Downloading parse-1.19.0.tar.gz (30 kB)\n",
            "Collecting w3lib\n",
            "  Downloading w3lib-2.0.1-py3-none-any.whl (20 kB)\n",
            "Collecting fake-useragent\n",
            "  Downloading fake-useragent-0.1.11.tar.gz (13 kB)\n",
            "Collecting pyquery\n",
            "  Downloading pyquery-1.4.3-py3-none-any.whl (22 kB)\n",
            "Requirement already satisfied: importlib-metadata>=1.4 in /usr/local/lib/python3.7/dist-packages (from pyppeteer>=0.0.14->requests_html) (4.13.0)\n",
            "Requirement already satisfied: tqdm<5.0.0,>=4.42.1 in /usr/local/lib/python3.7/dist-packages (from pyppeteer>=0.0.14->requests_html) (4.64.1)\n",
            "Requirement already satisfied: certifi>=2021 in /usr/local/lib/python3.7/dist-packages (from pyppeteer>=0.0.14->requests_html) (2022.9.24)\n",
            "Requirement already satisfied: appdirs<2.0.0,>=1.4.3 in /usr/local/lib/python3.7/dist-packages (from pyppeteer>=0.0.14->requests_html) (1.4.4)\n",
            "Collecting urllib3<2.0.0,>=1.25.8\n",
            "  Downloading urllib3-1.26.12-py2.py3-none-any.whl (140 kB)\n",
            "\u001b[K     |████████████████████████████████| 140 kB 39.5 MB/s \n",
            "\u001b[?25hCollecting websockets<11.0,>=10.0\n",
            "  Downloading websockets-10.3-cp37-cp37m-manylinux_2_5_x86_64.manylinux1_x86_64.manylinux_2_12_x86_64.manylinux2010_x86_64.whl (112 kB)\n",
            "\u001b[K     |████████████████████████████████| 112 kB 41.8 MB/s \n",
            "\u001b[?25hCollecting pyee<9.0.0,>=8.1.0\n",
            "  Downloading pyee-8.2.2-py2.py3-none-any.whl (12 kB)\n",
            "Requirement already satisfied: typing-extensions>=3.6.4 in /usr/local/lib/python3.7/dist-packages (from importlib-metadata>=1.4->pyppeteer>=0.0.14->requests_html) (4.1.1)\n",
            "Requirement already satisfied: zipp>=0.5 in /usr/local/lib/python3.7/dist-packages (from importlib-metadata>=1.4->pyppeteer>=0.0.14->requests_html) (3.9.0)\n",
            "Requirement already satisfied: beautifulsoup4 in /usr/local/lib/python3.7/dist-packages (from bs4->requests_html) (4.6.3)\n",
            "Collecting cssselect>0.7.9\n",
            "  Downloading cssselect-1.1.0-py2.py3-none-any.whl (16 kB)\n",
            "Requirement already satisfied: lxml>=2.1 in /usr/local/lib/python3.7/dist-packages (from pyquery->requests_html) (4.9.1)\n",
            "Requirement already satisfied: idna<3,>=2.5 in /usr/local/lib/python3.7/dist-packages (from requests->requests_html) (2.10)\n",
            "Collecting urllib3<2.0.0,>=1.25.8\n",
            "  Downloading urllib3-1.25.11-py2.py3-none-any.whl (127 kB)\n",
            "\u001b[K     |████████████████████████████████| 127 kB 36.1 MB/s \n",
            "\u001b[?25hRequirement already satisfied: chardet<4,>=3.0.2 in /usr/local/lib/python3.7/dist-packages (from requests->requests_html) (3.0.4)\n",
            "Building wheels for collected packages: fake-useragent, parse\n",
            "  Building wheel for fake-useragent (setup.py) ... \u001b[?25l\u001b[?25hdone\n",
            "  Created wheel for fake-useragent: filename=fake_useragent-0.1.11-py3-none-any.whl size=13502 sha256=726848029d1e6f931e7140882a936b3502eb93c1366e097ccfe7ca72b6d28058\n",
            "  Stored in directory: /root/.cache/pip/wheels/ed/f7/62/50ab6c9a0b5567267ab76a9daa9d06315704209b2c5d032031\n",
            "  Building wheel for parse (setup.py) ... \u001b[?25l\u001b[?25hdone\n",
            "  Created wheel for parse: filename=parse-1.19.0-py3-none-any.whl size=24591 sha256=ec1bd51bda0b6fd86ecf93debb4f2df599ec69fa7799d28904ef9dfd058700cc\n",
            "  Stored in directory: /root/.cache/pip/wheels/9c/aa/cc/f2228050ccb40f22144b073f15a2c84f11204f29fc0dce028e\n",
            "Successfully built fake-useragent parse\n",
            "Installing collected packages: websockets, urllib3, pyee, cssselect, w3lib, pyquery, pyppeteer, parse, fake-useragent, requests-html\n",
            "  Attempting uninstall: urllib3\n",
            "    Found existing installation: urllib3 1.24.3\n",
            "    Uninstalling urllib3-1.24.3:\n",
            "      Successfully uninstalled urllib3-1.24.3\n",
            "Successfully installed cssselect-1.1.0 fake-useragent-0.1.11 parse-1.19.0 pyee-8.2.2 pyppeteer-1.0.2 pyquery-1.4.3 requests-html-0.10.0 urllib3-1.25.11 w3lib-2.0.1 websockets-10.3\n"
          ]
        }
      ],
      "source": [
        "!pip install requests_html"
      ]
    },
    {
      "cell_type": "code",
      "execution_count": null,
      "id": "ebfb1dd7-f713-4181-82aa-8b55d88cfbea",
      "metadata": {
        "colab": {
          "base_uri": "https://localhost:8080/"
        },
        "id": "ebfb1dd7-f713-4181-82aa-8b55d88cfbea",
        "outputId": "cfba2d6f-7c15-416d-9105-f21fae659a42"
      },
      "outputs": [
        {
          "output_type": "stream",
          "name": "stdout",
          "text": [
            "Looking in indexes: https://pypi.org/simple, https://us-python.pkg.dev/colab-wheels/public/simple/\n",
            "Collecting yfinance\n",
            "  Downloading yfinance-0.1.79-py2.py3-none-any.whl (29 kB)\n",
            "Requirement already satisfied: lxml>=4.5.1 in /usr/local/lib/python3.7/dist-packages (from yfinance) (4.9.1)\n",
            "Requirement already satisfied: numpy>=1.15 in /usr/local/lib/python3.7/dist-packages (from yfinance) (1.21.6)\n",
            "Requirement already satisfied: multitasking>=0.0.7 in /usr/local/lib/python3.7/dist-packages (from yfinance) (0.0.11)\n",
            "Requirement already satisfied: appdirs>=1.4.4 in /usr/local/lib/python3.7/dist-packages (from yfinance) (1.4.4)\n",
            "Requirement already satisfied: pandas>=0.24.0 in /usr/local/lib/python3.7/dist-packages (from yfinance) (1.3.5)\n",
            "Collecting requests>=2.26\n",
            "  Downloading requests-2.28.1-py3-none-any.whl (62 kB)\n",
            "\u001b[K     |████████████████████████████████| 62 kB 1.3 MB/s \n",
            "\u001b[?25hRequirement already satisfied: python-dateutil>=2.7.3 in /usr/local/lib/python3.7/dist-packages (from pandas>=0.24.0->yfinance) (2.8.2)\n",
            "Requirement already satisfied: pytz>=2017.3 in /usr/local/lib/python3.7/dist-packages (from pandas>=0.24.0->yfinance) (2022.4)\n",
            "Requirement already satisfied: six>=1.5 in /usr/local/lib/python3.7/dist-packages (from python-dateutil>=2.7.3->pandas>=0.24.0->yfinance) (1.15.0)\n",
            "Requirement already satisfied: certifi>=2017.4.17 in /usr/local/lib/python3.7/dist-packages (from requests>=2.26->yfinance) (2022.9.24)\n",
            "Requirement already satisfied: idna<4,>=2.5 in /usr/local/lib/python3.7/dist-packages (from requests>=2.26->yfinance) (2.10)\n",
            "Requirement already satisfied: urllib3<1.27,>=1.21.1 in /usr/local/lib/python3.7/dist-packages (from requests>=2.26->yfinance) (1.25.11)\n",
            "Requirement already satisfied: charset-normalizer<3,>=2 in /usr/local/lib/python3.7/dist-packages (from requests>=2.26->yfinance) (2.1.1)\n",
            "Installing collected packages: requests, yfinance\n",
            "  Attempting uninstall: requests\n",
            "    Found existing installation: requests 2.23.0\n",
            "    Uninstalling requests-2.23.0:\n",
            "      Successfully uninstalled requests-2.23.0\n",
            "Successfully installed requests-2.28.1 yfinance-0.1.79\n"
          ]
        }
      ],
      "source": [
        "!python -m pip install yfinance"
      ]
    },
    {
      "cell_type": "code",
      "execution_count": null,
      "id": "a56391fd-954c-4f54-a974-cba49c3af599",
      "metadata": {
        "colab": {
          "base_uri": "https://localhost:8080/"
        },
        "id": "a56391fd-954c-4f54-a974-cba49c3af599",
        "outputId": "57c89f5c-1346-4acc-b697-73f20a348791"
      },
      "outputs": [
        {
          "output_type": "stream",
          "name": "stdout",
          "text": [
            "Looking in indexes: https://pypi.org/simple, https://us-python.pkg.dev/colab-wheels/public/simple/\n",
            "Requirement already satisfied: fix-yahoo-finance in /usr/local/lib/python3.7/dist-packages (0.0.22)\n",
            "Requirement already satisfied: requests in /usr/local/lib/python3.7/dist-packages (from fix-yahoo-finance) (2.28.1)\n",
            "Requirement already satisfied: numpy in /usr/local/lib/python3.7/dist-packages (from fix-yahoo-finance) (1.21.6)\n",
            "Requirement already satisfied: multitasking in /usr/local/lib/python3.7/dist-packages (from fix-yahoo-finance) (0.0.11)\n",
            "Requirement already satisfied: pandas in /usr/local/lib/python3.7/dist-packages (from fix-yahoo-finance) (1.3.5)\n",
            "Requirement already satisfied: pytz>=2017.3 in /usr/local/lib/python3.7/dist-packages (from pandas->fix-yahoo-finance) (2022.4)\n",
            "Requirement already satisfied: python-dateutil>=2.7.3 in /usr/local/lib/python3.7/dist-packages (from pandas->fix-yahoo-finance) (2.8.2)\n",
            "Requirement already satisfied: six>=1.5 in /usr/local/lib/python3.7/dist-packages (from python-dateutil>=2.7.3->pandas->fix-yahoo-finance) (1.15.0)\n",
            "Requirement already satisfied: urllib3<1.27,>=1.21.1 in /usr/local/lib/python3.7/dist-packages (from requests->fix-yahoo-finance) (1.25.11)\n",
            "Requirement already satisfied: certifi>=2017.4.17 in /usr/local/lib/python3.7/dist-packages (from requests->fix-yahoo-finance) (2022.9.24)\n",
            "Requirement already satisfied: idna<4,>=2.5 in /usr/local/lib/python3.7/dist-packages (from requests->fix-yahoo-finance) (2.10)\n",
            "Requirement already satisfied: charset-normalizer<3,>=2 in /usr/local/lib/python3.7/dist-packages (from requests->fix-yahoo-finance) (2.1.1)\n"
          ]
        }
      ],
      "source": [
        "!pip install fix-yahoo-finance"
      ]
    },
    {
      "cell_type": "code",
      "execution_count": null,
      "id": "0a91335e",
      "metadata": {
        "colab": {
          "base_uri": "https://localhost:8080/"
        },
        "id": "0a91335e",
        "outputId": "833839c4-d11b-4e7a-df1e-a5c548de7339"
      },
      "outputs": [
        {
          "output_type": "stream",
          "name": "stdout",
          "text": [
            "Looking in indexes: https://pypi.org/simple, https://us-python.pkg.dev/colab-wheels/public/simple/\n",
            "Requirement already satisfied: tensorflow in /usr/local/lib/python3.7/dist-packages (2.9.2)\n",
            "Requirement already satisfied: numpy>=1.20 in /usr/local/lib/python3.7/dist-packages (from tensorflow) (1.21.6)\n",
            "Requirement already satisfied: setuptools in /usr/local/lib/python3.7/dist-packages (from tensorflow) (57.4.0)\n",
            "Requirement already satisfied: protobuf<3.20,>=3.9.2 in /usr/local/lib/python3.7/dist-packages (from tensorflow) (3.17.3)\n",
            "Requirement already satisfied: astunparse>=1.6.0 in /usr/local/lib/python3.7/dist-packages (from tensorflow) (1.6.3)\n",
            "Requirement already satisfied: tensorboard<2.10,>=2.9 in /usr/local/lib/python3.7/dist-packages (from tensorflow) (2.9.1)\n",
            "Requirement already satisfied: tensorflow-estimator<2.10.0,>=2.9.0rc0 in /usr/local/lib/python3.7/dist-packages (from tensorflow) (2.9.0)\n",
            "Requirement already satisfied: keras<2.10.0,>=2.9.0rc0 in /usr/local/lib/python3.7/dist-packages (from tensorflow) (2.9.0)\n",
            "Requirement already satisfied: opt-einsum>=2.3.2 in /usr/local/lib/python3.7/dist-packages (from tensorflow) (3.3.0)\n",
            "Requirement already satisfied: six>=1.12.0 in /usr/local/lib/python3.7/dist-packages (from tensorflow) (1.15.0)\n",
            "Requirement already satisfied: h5py>=2.9.0 in /usr/local/lib/python3.7/dist-packages (from tensorflow) (3.1.0)\n",
            "Requirement already satisfied: tensorflow-io-gcs-filesystem>=0.23.1 in /usr/local/lib/python3.7/dist-packages (from tensorflow) (0.27.0)\n",
            "Requirement already satisfied: typing-extensions>=3.6.6 in /usr/local/lib/python3.7/dist-packages (from tensorflow) (4.1.1)\n",
            "Requirement already satisfied: flatbuffers<2,>=1.12 in /usr/local/lib/python3.7/dist-packages (from tensorflow) (1.12)\n",
            "Requirement already satisfied: termcolor>=1.1.0 in /usr/local/lib/python3.7/dist-packages (from tensorflow) (2.0.1)\n",
            "Requirement already satisfied: grpcio<2.0,>=1.24.3 in /usr/local/lib/python3.7/dist-packages (from tensorflow) (1.49.1)\n",
            "Requirement already satisfied: libclang>=13.0.0 in /usr/local/lib/python3.7/dist-packages (from tensorflow) (14.0.6)\n",
            "Requirement already satisfied: packaging in /usr/local/lib/python3.7/dist-packages (from tensorflow) (21.3)\n",
            "Requirement already satisfied: google-pasta>=0.1.1 in /usr/local/lib/python3.7/dist-packages (from tensorflow) (0.2.0)\n",
            "Requirement already satisfied: wrapt>=1.11.0 in /usr/local/lib/python3.7/dist-packages (from tensorflow) (1.14.1)\n",
            "Requirement already satisfied: gast<=0.4.0,>=0.2.1 in /usr/local/lib/python3.7/dist-packages (from tensorflow) (0.4.0)\n",
            "Requirement already satisfied: absl-py>=1.0.0 in /usr/local/lib/python3.7/dist-packages (from tensorflow) (1.3.0)\n",
            "Requirement already satisfied: keras-preprocessing>=1.1.1 in /usr/local/lib/python3.7/dist-packages (from tensorflow) (1.1.2)\n",
            "Requirement already satisfied: wheel<1.0,>=0.23.0 in /usr/local/lib/python3.7/dist-packages (from astunparse>=1.6.0->tensorflow) (0.37.1)\n",
            "Requirement already satisfied: cached-property in /usr/local/lib/python3.7/dist-packages (from h5py>=2.9.0->tensorflow) (1.5.2)\n",
            "Requirement already satisfied: google-auth-oauthlib<0.5,>=0.4.1 in /usr/local/lib/python3.7/dist-packages (from tensorboard<2.10,>=2.9->tensorflow) (0.4.6)\n",
            "Requirement already satisfied: tensorboard-plugin-wit>=1.6.0 in /usr/local/lib/python3.7/dist-packages (from tensorboard<2.10,>=2.9->tensorflow) (1.8.1)\n",
            "Requirement already satisfied: google-auth<3,>=1.6.3 in /usr/local/lib/python3.7/dist-packages (from tensorboard<2.10,>=2.9->tensorflow) (1.35.0)\n",
            "Requirement already satisfied: requests<3,>=2.21.0 in /usr/local/lib/python3.7/dist-packages (from tensorboard<2.10,>=2.9->tensorflow) (2.28.1)\n",
            "Requirement already satisfied: werkzeug>=1.0.1 in /usr/local/lib/python3.7/dist-packages (from tensorboard<2.10,>=2.9->tensorflow) (1.0.1)\n",
            "Requirement already satisfied: tensorboard-data-server<0.7.0,>=0.6.0 in /usr/local/lib/python3.7/dist-packages (from tensorboard<2.10,>=2.9->tensorflow) (0.6.1)\n",
            "Requirement already satisfied: markdown>=2.6.8 in /usr/local/lib/python3.7/dist-packages (from tensorboard<2.10,>=2.9->tensorflow) (3.4.1)\n",
            "Requirement already satisfied: rsa<5,>=3.1.4 in /usr/local/lib/python3.7/dist-packages (from google-auth<3,>=1.6.3->tensorboard<2.10,>=2.9->tensorflow) (4.9)\n",
            "Requirement already satisfied: pyasn1-modules>=0.2.1 in /usr/local/lib/python3.7/dist-packages (from google-auth<3,>=1.6.3->tensorboard<2.10,>=2.9->tensorflow) (0.2.8)\n",
            "Requirement already satisfied: cachetools<5.0,>=2.0.0 in /usr/local/lib/python3.7/dist-packages (from google-auth<3,>=1.6.3->tensorboard<2.10,>=2.9->tensorflow) (4.2.4)\n",
            "Requirement already satisfied: requests-oauthlib>=0.7.0 in /usr/local/lib/python3.7/dist-packages (from google-auth-oauthlib<0.5,>=0.4.1->tensorboard<2.10,>=2.9->tensorflow) (1.3.1)\n",
            "Requirement already satisfied: importlib-metadata>=4.4 in /usr/local/lib/python3.7/dist-packages (from markdown>=2.6.8->tensorboard<2.10,>=2.9->tensorflow) (4.13.0)\n",
            "Requirement already satisfied: zipp>=0.5 in /usr/local/lib/python3.7/dist-packages (from importlib-metadata>=4.4->markdown>=2.6.8->tensorboard<2.10,>=2.9->tensorflow) (3.9.0)\n",
            "Requirement already satisfied: pyasn1<0.5.0,>=0.4.6 in /usr/local/lib/python3.7/dist-packages (from pyasn1-modules>=0.2.1->google-auth<3,>=1.6.3->tensorboard<2.10,>=2.9->tensorflow) (0.4.8)\n",
            "Requirement already satisfied: idna<4,>=2.5 in /usr/local/lib/python3.7/dist-packages (from requests<3,>=2.21.0->tensorboard<2.10,>=2.9->tensorflow) (2.10)\n",
            "Requirement already satisfied: charset-normalizer<3,>=2 in /usr/local/lib/python3.7/dist-packages (from requests<3,>=2.21.0->tensorboard<2.10,>=2.9->tensorflow) (2.1.1)\n",
            "Requirement already satisfied: certifi>=2017.4.17 in /usr/local/lib/python3.7/dist-packages (from requests<3,>=2.21.0->tensorboard<2.10,>=2.9->tensorflow) (2022.9.24)\n",
            "Requirement already satisfied: urllib3<1.27,>=1.21.1 in /usr/local/lib/python3.7/dist-packages (from requests<3,>=2.21.0->tensorboard<2.10,>=2.9->tensorflow) (1.25.11)\n",
            "Requirement already satisfied: oauthlib>=3.0.0 in /usr/local/lib/python3.7/dist-packages (from requests-oauthlib>=0.7.0->google-auth-oauthlib<0.5,>=0.4.1->tensorboard<2.10,>=2.9->tensorflow) (3.2.1)\n",
            "Requirement already satisfied: pyparsing!=3.0.5,>=2.0.2 in /usr/local/lib/python3.7/dist-packages (from packaging->tensorflow) (3.0.9)\n"
          ]
        }
      ],
      "source": [
        "!pip install tensorflow"
      ]
    },
    {
      "cell_type": "code",
      "source": [
        "!pip install yahoo_fin "
      ],
      "metadata": {
        "colab": {
          "base_uri": "https://localhost:8080/"
        },
        "id": "I3aBfsVSxYs5",
        "outputId": "a86e6f6e-bf09-4775-f366-84e36554f669"
      },
      "id": "I3aBfsVSxYs5",
      "execution_count": null,
      "outputs": [
        {
          "output_type": "stream",
          "name": "stdout",
          "text": [
            "Looking in indexes: https://pypi.org/simple, https://us-python.pkg.dev/colab-wheels/public/simple/\n",
            "Collecting yahoo_fin\n",
            "  Downloading yahoo_fin-0.8.9.1-py3-none-any.whl (10 kB)\n",
            "Requirement already satisfied: requests in /usr/local/lib/python3.7/dist-packages (from yahoo_fin) (2.28.1)\n",
            "Collecting feedparser\n",
            "  Downloading feedparser-6.0.10-py3-none-any.whl (81 kB)\n",
            "\u001b[K     |████████████████████████████████| 81 kB 4.6 MB/s \n",
            "\u001b[?25hRequirement already satisfied: pandas in /usr/local/lib/python3.7/dist-packages (from yahoo_fin) (1.3.5)\n",
            "Requirement already satisfied: requests-html in /usr/local/lib/python3.7/dist-packages (from yahoo_fin) (0.10.0)\n",
            "Collecting sgmllib3k\n",
            "  Downloading sgmllib3k-1.0.0.tar.gz (5.8 kB)\n",
            "Requirement already satisfied: numpy>=1.17.3 in /usr/local/lib/python3.7/dist-packages (from pandas->yahoo_fin) (1.21.6)\n",
            "Requirement already satisfied: python-dateutil>=2.7.3 in /usr/local/lib/python3.7/dist-packages (from pandas->yahoo_fin) (2.8.2)\n",
            "Requirement already satisfied: pytz>=2017.3 in /usr/local/lib/python3.7/dist-packages (from pandas->yahoo_fin) (2022.4)\n",
            "Requirement already satisfied: six>=1.5 in /usr/local/lib/python3.7/dist-packages (from python-dateutil>=2.7.3->pandas->yahoo_fin) (1.15.0)\n",
            "Requirement already satisfied: urllib3<1.27,>=1.21.1 in /usr/local/lib/python3.7/dist-packages (from requests->yahoo_fin) (1.25.11)\n",
            "Requirement already satisfied: idna<4,>=2.5 in /usr/local/lib/python3.7/dist-packages (from requests->yahoo_fin) (2.10)\n",
            "Requirement already satisfied: charset-normalizer<3,>=2 in /usr/local/lib/python3.7/dist-packages (from requests->yahoo_fin) (2.1.1)\n",
            "Requirement already satisfied: certifi>=2017.4.17 in /usr/local/lib/python3.7/dist-packages (from requests->yahoo_fin) (2022.9.24)\n",
            "Requirement already satisfied: pyquery in /usr/local/lib/python3.7/dist-packages (from requests-html->yahoo_fin) (1.4.3)\n",
            "Requirement already satisfied: fake-useragent in /usr/local/lib/python3.7/dist-packages (from requests-html->yahoo_fin) (0.1.11)\n",
            "Requirement already satisfied: bs4 in /usr/local/lib/python3.7/dist-packages (from requests-html->yahoo_fin) (0.0.1)\n",
            "Requirement already satisfied: parse in /usr/local/lib/python3.7/dist-packages (from requests-html->yahoo_fin) (1.19.0)\n",
            "Requirement already satisfied: w3lib in /usr/local/lib/python3.7/dist-packages (from requests-html->yahoo_fin) (2.0.1)\n",
            "Requirement already satisfied: pyppeteer>=0.0.14 in /usr/local/lib/python3.7/dist-packages (from requests-html->yahoo_fin) (1.0.2)\n",
            "Requirement already satisfied: importlib-metadata>=1.4 in /usr/local/lib/python3.7/dist-packages (from pyppeteer>=0.0.14->requests-html->yahoo_fin) (4.13.0)\n",
            "Requirement already satisfied: appdirs<2.0.0,>=1.4.3 in /usr/local/lib/python3.7/dist-packages (from pyppeteer>=0.0.14->requests-html->yahoo_fin) (1.4.4)\n",
            "Requirement already satisfied: websockets<11.0,>=10.0 in /usr/local/lib/python3.7/dist-packages (from pyppeteer>=0.0.14->requests-html->yahoo_fin) (10.3)\n",
            "Requirement already satisfied: tqdm<5.0.0,>=4.42.1 in /usr/local/lib/python3.7/dist-packages (from pyppeteer>=0.0.14->requests-html->yahoo_fin) (4.64.1)\n",
            "Requirement already satisfied: pyee<9.0.0,>=8.1.0 in /usr/local/lib/python3.7/dist-packages (from pyppeteer>=0.0.14->requests-html->yahoo_fin) (8.2.2)\n",
            "Requirement already satisfied: zipp>=0.5 in /usr/local/lib/python3.7/dist-packages (from importlib-metadata>=1.4->pyppeteer>=0.0.14->requests-html->yahoo_fin) (3.9.0)\n",
            "Requirement already satisfied: typing-extensions>=3.6.4 in /usr/local/lib/python3.7/dist-packages (from importlib-metadata>=1.4->pyppeteer>=0.0.14->requests-html->yahoo_fin) (4.1.1)\n",
            "Requirement already satisfied: beautifulsoup4 in /usr/local/lib/python3.7/dist-packages (from bs4->requests-html->yahoo_fin) (4.6.3)\n",
            "Requirement already satisfied: cssselect>0.7.9 in /usr/local/lib/python3.7/dist-packages (from pyquery->requests-html->yahoo_fin) (1.1.0)\n",
            "Requirement already satisfied: lxml>=2.1 in /usr/local/lib/python3.7/dist-packages (from pyquery->requests-html->yahoo_fin) (4.9.1)\n",
            "Building wheels for collected packages: sgmllib3k\n",
            "  Building wheel for sgmllib3k (setup.py) ... \u001b[?25l\u001b[?25hdone\n",
            "  Created wheel for sgmllib3k: filename=sgmllib3k-1.0.0-py3-none-any.whl size=6066 sha256=c18c705d334ca0be3c1fd74e0e7b74f5248139761939b897eae1cacb64a5eda5\n",
            "  Stored in directory: /root/.cache/pip/wheels/73/ad/a4/0dff4a6ef231fc0dfa12ffbac2a36cebfdddfe059f50e019aa\n",
            "Successfully built sgmllib3k\n",
            "Installing collected packages: sgmllib3k, feedparser, yahoo-fin\n",
            "Successfully installed feedparser-6.0.10 sgmllib3k-1.0.0 yahoo-fin-0.8.9.1\n"
          ]
        }
      ]
    },
    {
      "cell_type": "markdown",
      "source": [],
      "metadata": {
        "id": "VhloqOnixYZ3"
      },
      "id": "VhloqOnixYZ3"
    },
    {
      "cell_type": "code",
      "execution_count": null,
      "id": "e73b02ce-5192-4942-b69e-2bdb67b47327",
      "metadata": {
        "id": "e73b02ce-5192-4942-b69e-2bdb67b47327"
      },
      "outputs": [],
      "source": [
        "# Importing the libraries\n",
        "import numpy as np\n",
        "import matplotlib.pyplot as plt\n",
        "import pandas as pd\n",
        "plt.style.use('seaborn-whitegrid')\n",
        "import tensorflow as tf\n",
        "#from tf import keras\n",
        "from sklearn.preprocessing import MinMaxScaler\n",
        "from keras.models import Sequential\n",
        "from keras.layers import Dense, LSTM, Dropout, GRU, Bidirectional\n",
        "from keras.optimizers import SGD\n",
        "import math\n",
        "from sklearn.metrics import mean_squared_error\n",
        "from pylab import rcParams\n",
        "from matplotlib.pyplot import figure\n",
        "import seaborn as sns\n",
        "from pandas.plotting import autocorrelation_plot\n",
        "from statsmodels.tsa.seasonal import seasonal_decompose\n",
        "%matplotlib inline\n",
        "from statsmodels.graphics.tsaplots import plot_acf\n",
        "import yfinance\n",
        "from yahoofinancials import YahooFinancials as yf"
      ]
    },
    {
      "cell_type": "code",
      "source": [
        "!pip datetime\n",
        "feedparser\n",
        "ftplib\n",
        "io\n",
        "json\n",
        "pandas\n",
        "requests\n",
        "requests_html"
      ],
      "metadata": {
        "id": "0JcMKIc9w37C"
      },
      "id": "0JcMKIc9w37C",
      "execution_count": null,
      "outputs": []
    },
    {
      "cell_type": "code",
      "execution_count": null,
      "id": "fa1ff63d-3a36-4dc5-97bb-91b42d93e66f",
      "metadata": {
        "colab": {
          "base_uri": "https://localhost:8080/"
        },
        "id": "fa1ff63d-3a36-4dc5-97bb-91b42d93e66f",
        "outputId": "c317df76-8871-4a71-b28e-7fe59f45f7c1"
      },
      "outputs": [
        {
          "output_type": "stream",
          "name": "stdout",
          "text": [
            "\r[***********           23%                       ]  114 of 503 completed"
          ]
        }
      ],
      "source": [
        "import numpy as np\n",
        "import warnings\n",
        "from pandas_datareader import data as pdr\n",
        "import datetime as dt\n",
        "#from yfinance import stock_info as si\n",
        "import yahoo_fin.stock_info as si\n",
        "import pandas as pd\n",
        "pd.set_option('display.max_rows', None)\n",
        "warnings.filterwarnings(\"ignore\")\n",
        "yfinance.pdr_override()\n",
        "\n",
        "num_of_years = 1\n",
        "start = dt.date.today() - dt.timedelta(days = int(365.25*num_of_years))\n",
        "end = dt.date.today()\n",
        "\n",
        "tickers = si.tickers_sp500()\n",
        "\n",
        "#dataset = pdr.get_data_yahoo(tickers, start, end)['Adj Close']\n",
        "#stocks_returns = np.log(dataset/dataset.shift(1))\n",
        "\n",
        "# print('\\nCorrelation Matrix')\n",
        "# corr_matrix = stocks_returns.corr()\n",
        "# print (corr_matrix)\n",
        "\n",
        "#def get_redundant_pairs(df):\n",
        "    #pairs_to_drop = set()\n",
        "    #cols = df.columns\n",
        "    #for i in range(0, df.shape[1]):\n",
        "        #for j in range(0, i+1):\n",
        "            #pairs_to_drop.add((cols[i], cols[j]))\n",
        "    #return pairs_to_drop\n",
        "\n",
        "#def get_top_abs_correlations(df):\n",
        "    #au_corr = df.corr().abs().unstack()\n",
        "    #labels_to_drop = get_redundant_pairs(df)\n",
        "    #au_corr = au_corr.drop(labels=labels_to_drop).sort_values(ascending=False)\n",
        "    #return au_corr\n",
        "\n"
      ]
    },
    {
      "cell_type": "markdown",
      "id": "2d925f18-1f7f-482d-a905-774849bffeeb",
      "metadata": {
        "id": "2d925f18-1f7f-482d-a905-774849bffeeb"
      },
      "source": [
        "### Top related companies"
      ]
    },
    {
      "cell_type": "code",
      "execution_count": null,
      "id": "06e49648-3c5e-4e27-8cdd-178c14b21078",
      "metadata": {
        "id": "06e49648-3c5e-4e27-8cdd-178c14b21078"
      },
      "outputs": [],
      "source": [
        "# print(\"nTop Absolute Correlations\")\n",
        "# print(get_top_abs_correlations(stocks_returns))"
      ]
    },
    {
      "cell_type": "markdown",
      "id": "b504561d-8f98-4ba2-8e7a-57c6a9be8d8d",
      "metadata": {
        "id": "b504561d-8f98-4ba2-8e7a-57c6a9be8d8d"
      },
      "source": [
        "#### Let's pick the tech companies from our list. Note that Apple and Microsoft are highly correlated as shown in the list above.\n",
        "\n",
        "Let's take the last five years as data."
      ]
    },
    {
      "cell_type": "code",
      "execution_count": null,
      "id": "65f2099b-d7e1-4b04-b1ca-8ddee7f41ba3",
      "metadata": {
        "id": "65f2099b-d7e1-4b04-b1ca-8ddee7f41ba3"
      },
      "outputs": [],
      "source": [
        "num_of_years = 1\n",
        "start = dt.date.today() - dt.timedelta(days = int(365.25*num_of_years))\n",
        "start = start.strftime('%Y-%m-%d')\n",
        "end = dt.date.today()\n",
        "end = end.strftime('%Y-%m-%d')"
      ]
    },
    {
      "cell_type": "code",
      "execution_count": null,
      "id": "2b2faa8f-e227-48c1-935d-f7741bcfae6e",
      "metadata": {
        "colab": {
          "base_uri": "https://localhost:8080/"
        },
        "id": "2b2faa8f-e227-48c1-935d-f7741bcfae6e",
        "outputId": "342e6661-6fda-4785-ab0d-eb9dc7c224ed"
      },
      "outputs": [
        {
          "output_type": "stream",
          "name": "stdout",
          "text": [
            "\r[*************         28%                       ]  139 of 503 completed"
          ]
        }
      ],
      "source": [
        "\n",
        "# List of considered Features\n",
        "FEATURES = ['formatted_date','high', 'low', 'open', 'close', 'volume']\n"
      ]
    },
    {
      "cell_type": "code",
      "execution_count": null,
      "id": "b6161681-8b5b-4669-82ce-7e24723cf07a",
      "metadata": {
        "colab": {
          "base_uri": "https://localhost:8080/"
        },
        "id": "b6161681-8b5b-4669-82ce-7e24723cf07a",
        "outputId": "1c1ac7d1-fa38-4378-f4e8-16588ceed262"
      },
      "outputs": [
        {
          "output_type": "stream",
          "name": "stdout",
          "text": [
            "[********************  42%                       ]  210 of 503 completed"
          ]
        },
        {
          "output_type": "stream",
          "name": "stderr",
          "text": [
            "Exception in thread Thread-223:\n",
            "Traceback (most recent call last):\n",
            "  File \"/usr/lib/python3.7/threading.py\", line 926, in _bootstrap_inner\n",
            "    self.run()\n",
            "  File \"/usr/lib/python3.7/threading.py\", line 870, in run\n",
            "    self._target(*self._args, **self._kwargs)\n",
            "  File \"/usr/local/lib/python3.7/dist-packages/multitasking/__init__.py\", line 104, in _run_via_pool\n",
            "    return callee(*args, **kwargs)\n",
            "  File \"/usr/local/lib/python3.7/dist-packages/yfinance/multi.py\", line 201, in _download_one_threaded\n",
            "    keepna, timeout)\n",
            "  File \"/usr/local/lib/python3.7/dist-packages/yfinance/multi.py\", line 218, in _download_one\n",
            "    timeout=timeout)\n",
            "  File \"/usr/local/lib/python3.7/dist-packages/yfinance/base.py\", line 154, in history\n",
            "    tz = self._get_ticker_tz()\n",
            "  File \"/usr/local/lib/python3.7/dist-packages/yfinance/base.py\", line 336, in _get_ticker_tz\n",
            "    tkr_tz = utils.cache_lookup_tkr_tz(self.ticker)\n",
            "  File \"/usr/local/lib/python3.7/dist-packages/yfinance/utils.py\", line 326, in cache_lookup_tkr_tz\n",
            "    df = _pd.read_csv(fp)\n",
            "  File \"/usr/local/lib/python3.7/dist-packages/pandas/util/_decorators.py\", line 311, in wrapper\n",
            "    return func(*args, **kwargs)\n",
            "  File \"/usr/local/lib/python3.7/dist-packages/pandas/io/parsers/readers.py\", line 586, in read_csv\n",
            "    return _read(filepath_or_buffer, kwds)\n",
            "  File \"/usr/local/lib/python3.7/dist-packages/pandas/io/parsers/readers.py\", line 482, in _read\n",
            "    parser = TextFileReader(filepath_or_buffer, **kwds)\n",
            "  File \"/usr/local/lib/python3.7/dist-packages/pandas/io/parsers/readers.py\", line 811, in __init__\n",
            "    self._engine = self._make_engine(self.engine)\n",
            "  File \"/usr/local/lib/python3.7/dist-packages/pandas/io/parsers/readers.py\", line 1040, in _make_engine\n",
            "    return mapping[engine](self.f, **self.options)  # type: ignore[call-arg]\n",
            "  File \"/usr/local/lib/python3.7/dist-packages/pandas/io/parsers/c_parser_wrapper.py\", line 69, in __init__\n",
            "    self._reader = parsers.TextReader(self.handles.handle, **kwds)\n",
            "  File \"pandas/_libs/parsers.pyx\", line 549, in pandas._libs.parsers.TextReader.__cinit__\n",
            "pandas.errors.EmptyDataError: No columns to parse from file\n",
            "\n"
          ]
        },
        {
          "output_type": "stream",
          "name": "stdout",
          "text": [
            "[*********************100%***********************]  501 of 503 completed"
          ]
        }
      ],
      "source": [
        "df = yf(tickers).get_historical_price_data(start_date=start, end_date=end, time_interval='daily')\n"
      ]
    },
    {
      "cell_type": "code",
      "execution_count": null,
      "id": "c822a224-7cdc-437b-837a-1c5c1915d664",
      "metadata": {
        "id": "c822a224-7cdc-437b-837a-1c5c1915d664"
      },
      "outputs": [],
      "source": [
        "stockList = list(df.keys())\n"
      ]
    },
    {
      "cell_type": "code",
      "execution_count": null,
      "id": "eb0b8851-d23b-4c25-85c1-fe1ea040201e",
      "metadata": {
        "id": "eb0b8851-d23b-4c25-85c1-fe1ea040201e"
      },
      "outputs": [],
      "source": [
        "for i in stockList:\n",
        "        df[i] = pd.DataFrame(df[i]['prices'], columns = FEATURES)#.dropna()\n",
        "        df[i] = df[i].set_index('formatted_date')"
      ]
    },
    {
      "cell_type": "code",
      "source": [
        "print(stockList)"
      ],
      "metadata": {
        "colab": {
          "base_uri": "https://localhost:8080/"
        },
        "id": "YQ88NSJ3ybxa",
        "outputId": "ab1b81f1-0f53-4772-accf-1656501bfcd7"
      },
      "id": "YQ88NSJ3ybxa",
      "execution_count": null,
      "outputs": [
        {
          "output_type": "stream",
          "name": "stdout",
          "text": [
            "['A', 'AAL', 'AAP', 'AAPL', 'ABBV', 'ABC', 'ABMD', 'ABT', 'ACN', 'ADBE', 'ADI', 'ADM', 'ADP', 'ADSK', 'AEE', 'AEP', 'AES', 'AFL', 'AIG', 'AIZ', 'AJG', 'AKAM', 'ALB', 'ALGN', 'ALK', 'ALL', 'ALLE', 'AMAT', 'AMCR', 'AMD', 'AME', 'AMGN', 'AMP', 'AMT', 'AMZN', 'ANET', 'ANSS', 'AON', 'AOS', 'APA', 'APD', 'APH', 'APTV', 'ARE', 'ATO', 'ATVI', 'AVB', 'AVGO', 'AVY', 'AWK', 'AXP', 'AZO', 'BA', 'BAC', 'BALL', 'BAX', 'BBWI', 'BBY', 'BDX', 'BEN', 'BF-B', 'BIIB', 'BIO', 'BK', 'BKNG', 'BKR', 'BLK', 'BMY', 'BR', 'BRK-B', 'BRO', 'BSX', 'BWA', 'BXP', 'C', 'CAG', 'CAH', 'CARR', 'CAT', 'CB', 'CBOE', 'CBRE', 'CCI', 'CCL', 'CDAY', 'CDNS', 'CDW', 'CE', 'CEG', 'CF', 'CFG', 'CHD', 'CHRW', 'CHTR', 'CI', 'CINF', 'CL', 'CLX', 'CMA', 'CMCSA', 'CME', 'CMG', 'CMI', 'CMS', 'CNC', 'CNP', 'COF', 'COO', 'COP', 'COST', 'CPB', 'CPRT', 'CPT', 'CRL', 'CRM', 'CSCO', 'CSGP', 'CSX', 'CTAS', 'CTLT', 'CTRA', 'CTSH', 'CTVA', 'CVS', 'CVX', 'CZR', 'D', 'DAL', 'DD', 'DE', 'DFS', 'DG', 'DGX', 'DHI', 'DHR', 'DIS', 'DISH', 'DLR', 'DLTR', 'DOV', 'DOW', 'DPZ', 'DRI', 'DTE', 'DUK', 'DVA', 'DVN', 'DXC', 'DXCM', 'EA', 'EBAY', 'ECL', 'ED', 'EFX', 'EIX', 'EL', 'ELV', 'EMN', 'EMR', 'ENPH', 'EOG', 'EPAM', 'EQIX', 'EQR', 'EQT', 'ES', 'ESS', 'ETN', 'ETR', 'ETSY', 'EVRG', 'EW', 'EXC', 'EXPD', 'EXPE', 'EXR', 'F', 'FANG', 'FAST', 'FBHS', 'FCX', 'FDS', 'FDX', 'FE', 'FFIV', 'FIS', 'FISV', 'FITB', 'FLT', 'FMC', 'FOX', 'FOXA', 'FRC', 'FRT', 'FTNT', 'FTV', 'GD', 'GE', 'GILD', 'GIS', 'GL', 'GLW', 'GM', 'GNRC', 'GOOG', 'GOOGL', 'GPC', 'GPN', 'GRMN', 'GS', 'GWW', 'HAL', 'HAS', 'HBAN', 'HCA', 'HD', 'HES', 'HIG', 'HII', 'HLT', 'HOLX', 'HON', 'HPE', 'HPQ', 'HRL', 'HSIC', 'HST', 'HSY', 'HUM', 'HWM', 'IBM', 'ICE', 'IDXX', 'IEX', 'IFF', 'ILMN', 'INCY', 'INTC', 'INTU', 'INVH', 'IP', 'IPG', 'IQV', 'IR', 'IRM', 'ISRG', 'IT', 'ITW', 'IVZ', 'J', 'JBHT', 'JCI', 'JKHY', 'JNJ', 'JNPR', 'JPM', 'K', 'KDP', 'KEY', 'KEYS', 'KHC', 'KIM', 'KLAC', 'KMB', 'KMI', 'KMX', 'KO', 'KR', 'L', 'LDOS', 'LEN', 'LH', 'LHX', 'LIN', 'LKQ', 'LLY', 'LMT', 'LNC', 'LNT', 'LOW', 'LRCX', 'LUMN', 'LUV', 'LVS', 'LW', 'LYB', 'LYV', 'MA', 'MAA', 'MAR', 'MAS', 'MCD', 'MCHP', 'MCK', 'MCO', 'MDLZ', 'MDT', 'MET', 'META', 'MGM', 'MHK', 'MKC', 'MKTX', 'MLM', 'MMC', 'MMM', 'MNST', 'MO', 'MOH', 'MOS', 'MPC', 'MPWR', 'MRK', 'MRNA', 'MRO', 'MS', 'MSCI', 'MSFT', 'MSI', 'MTB', 'MTCH', 'MTD', 'MU', 'NCLH', 'NDAQ', 'NDSN', 'NEE', 'NEM', 'NFLX', 'NI', 'NKE', 'NLOK', 'NOC', 'NOW', 'NRG', 'NSC', 'NTAP', 'NTRS', 'NUE', 'NVDA', 'NVR', 'NWL', 'NWS', 'NWSA', 'NXPI', 'O', 'ODFL', 'OGN', 'OKE', 'OMC', 'ON', 'ORCL', 'ORLY', 'OTIS', 'OXY', 'PARA', 'PAYC', 'PAYX', 'PCAR', 'PCG', 'PEAK', 'PEG', 'PEP', 'PFE', 'PFG', 'PG', 'PGR', 'PH', 'PHM', 'PKG', 'PKI', 'PLD', 'PM', 'PNC', 'PNR', 'PNW', 'POOL', 'PPG', 'PPL', 'PRU', 'PSA', 'PSX', 'PTC', 'PWR', 'PXD', 'PYPL', 'QCOM', 'QRVO', 'RCL', 'RE', 'REG', 'REGN', 'RF', 'RHI', 'RJF', 'RL', 'RMD', 'ROK', 'ROL', 'ROP', 'ROST', 'RSG', 'RTX', 'SBAC', 'SBNY', 'SBUX', 'SCHW', 'SEDG', 'SEE', 'SHW', 'SIVB', 'SJM', 'SLB', 'SNA', 'SNPS', 'SO', 'SPG', 'SPGI', 'SRE', 'STE', 'STT', 'STX', 'STZ', 'SWK', 'SWKS', 'SYF', 'SYK', 'SYY', 'T', 'TAP', 'TDG', 'TDY', 'TECH', 'TEL', 'TER', 'TFC', 'TFX', 'TGT', 'TJX', 'TMO', 'TMUS', 'TPR', 'TRGP', 'TRMB', 'TROW', 'TRV', 'TSCO', 'TSLA', 'TSN', 'TT', 'TTWO', 'TWTR', 'TXN', 'TXT', 'TYL', 'UAL', 'UDR', 'UHS', 'ULTA', 'UNH', 'UNP', 'UPS', 'URI', 'USB', 'V', 'VFC', 'VICI', 'VLO', 'VMC', 'VNO', 'VRSK', 'VRSN', 'VRTX', 'VTR', 'VTRS', 'VZ', 'WAB', 'WAT', 'WBA', 'WBD', 'WDC', 'WEC', 'WELL', 'WFC', 'WHR', 'WM', 'WMB', 'WMT', 'WRB', 'WRK', 'WST', 'WTW', 'WY', 'WYNN', 'XEL', 'XOM', 'XRAY', 'XYL', 'YUM', 'ZBH', 'ZBRA', 'ZION', 'ZTS']\n"
          ]
        }
      ]
    },
    {
      "cell_type": "code",
      "execution_count": null,
      "id": "2e66f101-e67f-4f8a-ab3c-68608db563fd",
      "metadata": {
        "colab": {
          "base_uri": "https://localhost:8080/",
          "height": 238
        },
        "id": "2e66f101-e67f-4f8a-ab3c-68608db563fd",
        "outputId": "b82ef93e-2233-465b-d2ec-1b72e0d9db9e"
      },
      "outputs": [
        {
          "output_type": "execute_result",
          "data": {
            "text/plain": [
              "                      high         low        open       close    volume\n",
              "formatted_date                                                          \n",
              "2021-10-21      149.639999  147.869995  148.809998  149.479996  61421000\n",
              "2021-10-22      150.179993  148.639999  149.690002  148.690002  58883400\n",
              "2021-10-25      149.369995  147.619995  148.679993  148.639999  50720600\n",
              "2021-10-26      150.839996  149.009995  149.330002  149.320007  60893400\n",
              "2021-10-27      149.729996  148.490005  149.360001  148.850006  56094900"
            ],
            "text/html": [
              "\n",
              "  <div id=\"df-812a353a-1d27-4077-a709-fbe2dd5878b9\">\n",
              "    <div class=\"colab-df-container\">\n",
              "      <div>\n",
              "<style scoped>\n",
              "    .dataframe tbody tr th:only-of-type {\n",
              "        vertical-align: middle;\n",
              "    }\n",
              "\n",
              "    .dataframe tbody tr th {\n",
              "        vertical-align: top;\n",
              "    }\n",
              "\n",
              "    .dataframe thead th {\n",
              "        text-align: right;\n",
              "    }\n",
              "</style>\n",
              "<table border=\"1\" class=\"dataframe\">\n",
              "  <thead>\n",
              "    <tr style=\"text-align: right;\">\n",
              "      <th></th>\n",
              "      <th>high</th>\n",
              "      <th>low</th>\n",
              "      <th>open</th>\n",
              "      <th>close</th>\n",
              "      <th>volume</th>\n",
              "    </tr>\n",
              "    <tr>\n",
              "      <th>formatted_date</th>\n",
              "      <th></th>\n",
              "      <th></th>\n",
              "      <th></th>\n",
              "      <th></th>\n",
              "      <th></th>\n",
              "    </tr>\n",
              "  </thead>\n",
              "  <tbody>\n",
              "    <tr>\n",
              "      <th>2021-10-21</th>\n",
              "      <td>149.639999</td>\n",
              "      <td>147.869995</td>\n",
              "      <td>148.809998</td>\n",
              "      <td>149.479996</td>\n",
              "      <td>61421000</td>\n",
              "    </tr>\n",
              "    <tr>\n",
              "      <th>2021-10-22</th>\n",
              "      <td>150.179993</td>\n",
              "      <td>148.639999</td>\n",
              "      <td>149.690002</td>\n",
              "      <td>148.690002</td>\n",
              "      <td>58883400</td>\n",
              "    </tr>\n",
              "    <tr>\n",
              "      <th>2021-10-25</th>\n",
              "      <td>149.369995</td>\n",
              "      <td>147.619995</td>\n",
              "      <td>148.679993</td>\n",
              "      <td>148.639999</td>\n",
              "      <td>50720600</td>\n",
              "    </tr>\n",
              "    <tr>\n",
              "      <th>2021-10-26</th>\n",
              "      <td>150.839996</td>\n",
              "      <td>149.009995</td>\n",
              "      <td>149.330002</td>\n",
              "      <td>149.320007</td>\n",
              "      <td>60893400</td>\n",
              "    </tr>\n",
              "    <tr>\n",
              "      <th>2021-10-27</th>\n",
              "      <td>149.729996</td>\n",
              "      <td>148.490005</td>\n",
              "      <td>149.360001</td>\n",
              "      <td>148.850006</td>\n",
              "      <td>56094900</td>\n",
              "    </tr>\n",
              "  </tbody>\n",
              "</table>\n",
              "</div>\n",
              "      <button class=\"colab-df-convert\" onclick=\"convertToInteractive('df-812a353a-1d27-4077-a709-fbe2dd5878b9')\"\n",
              "              title=\"Convert this dataframe to an interactive table.\"\n",
              "              style=\"display:none;\">\n",
              "        \n",
              "  <svg xmlns=\"http://www.w3.org/2000/svg\" height=\"24px\"viewBox=\"0 0 24 24\"\n",
              "       width=\"24px\">\n",
              "    <path d=\"M0 0h24v24H0V0z\" fill=\"none\"/>\n",
              "    <path d=\"M18.56 5.44l.94 2.06.94-2.06 2.06-.94-2.06-.94-.94-2.06-.94 2.06-2.06.94zm-11 1L8.5 8.5l.94-2.06 2.06-.94-2.06-.94L8.5 2.5l-.94 2.06-2.06.94zm10 10l.94 2.06.94-2.06 2.06-.94-2.06-.94-.94-2.06-.94 2.06-2.06.94z\"/><path d=\"M17.41 7.96l-1.37-1.37c-.4-.4-.92-.59-1.43-.59-.52 0-1.04.2-1.43.59L10.3 9.45l-7.72 7.72c-.78.78-.78 2.05 0 2.83L4 21.41c.39.39.9.59 1.41.59.51 0 1.02-.2 1.41-.59l7.78-7.78 2.81-2.81c.8-.78.8-2.07 0-2.86zM5.41 20L4 18.59l7.72-7.72 1.47 1.35L5.41 20z\"/>\n",
              "  </svg>\n",
              "      </button>\n",
              "      \n",
              "  <style>\n",
              "    .colab-df-container {\n",
              "      display:flex;\n",
              "      flex-wrap:wrap;\n",
              "      gap: 12px;\n",
              "    }\n",
              "\n",
              "    .colab-df-convert {\n",
              "      background-color: #E8F0FE;\n",
              "      border: none;\n",
              "      border-radius: 50%;\n",
              "      cursor: pointer;\n",
              "      display: none;\n",
              "      fill: #1967D2;\n",
              "      height: 32px;\n",
              "      padding: 0 0 0 0;\n",
              "      width: 32px;\n",
              "    }\n",
              "\n",
              "    .colab-df-convert:hover {\n",
              "      background-color: #E2EBFA;\n",
              "      box-shadow: 0px 1px 2px rgba(60, 64, 67, 0.3), 0px 1px 3px 1px rgba(60, 64, 67, 0.15);\n",
              "      fill: #174EA6;\n",
              "    }\n",
              "\n",
              "    [theme=dark] .colab-df-convert {\n",
              "      background-color: #3B4455;\n",
              "      fill: #D2E3FC;\n",
              "    }\n",
              "\n",
              "    [theme=dark] .colab-df-convert:hover {\n",
              "      background-color: #434B5C;\n",
              "      box-shadow: 0px 1px 3px 1px rgba(0, 0, 0, 0.15);\n",
              "      filter: drop-shadow(0px 1px 2px rgba(0, 0, 0, 0.3));\n",
              "      fill: #FFFFFF;\n",
              "    }\n",
              "  </style>\n",
              "\n",
              "      <script>\n",
              "        const buttonEl =\n",
              "          document.querySelector('#df-812a353a-1d27-4077-a709-fbe2dd5878b9 button.colab-df-convert');\n",
              "        buttonEl.style.display =\n",
              "          google.colab.kernel.accessAllowed ? 'block' : 'none';\n",
              "\n",
              "        async function convertToInteractive(key) {\n",
              "          const element = document.querySelector('#df-812a353a-1d27-4077-a709-fbe2dd5878b9');\n",
              "          const dataTable =\n",
              "            await google.colab.kernel.invokeFunction('convertToInteractive',\n",
              "                                                     [key], {});\n",
              "          if (!dataTable) return;\n",
              "\n",
              "          const docLinkHtml = 'Like what you see? Visit the ' +\n",
              "            '<a target=\"_blank\" href=https://colab.research.google.com/notebooks/data_table.ipynb>data table notebook</a>'\n",
              "            + ' to learn more about interactive tables.';\n",
              "          element.innerHTML = '';\n",
              "          dataTable['output_type'] = 'display_data';\n",
              "          await google.colab.output.renderOutput(dataTable, element);\n",
              "          const docLink = document.createElement('div');\n",
              "          docLink.innerHTML = docLinkHtml;\n",
              "          element.appendChild(docLink);\n",
              "        }\n",
              "      </script>\n",
              "    </div>\n",
              "  </div>\n",
              "  "
            ]
          },
          "metadata": {},
          "execution_count": 24
        }
      ],
      "source": [
        "df['AAPL'].head()"
      ]
    },
    {
      "cell_type": "code",
      "execution_count": null,
      "id": "8720e172-469c-4626-ad3b-d4e36dc598da",
      "metadata": {
        "colab": {
          "base_uri": "https://localhost:8080/",
          "height": 300
        },
        "id": "8720e172-469c-4626-ad3b-d4e36dc598da",
        "outputId": "beda0c4c-9451-489c-e595-3fdd68a8af2b"
      },
      "outputs": [
        {
          "output_type": "execute_result",
          "data": {
            "text/plain": [
              "             high         low        open       close        volume\n",
              "count  252.000000  252.000000  252.000000  252.000000  2.520000e+02\n",
              "mean   160.519008  156.467222  158.382143  158.563770  8.974472e+07\n",
              "std     12.394080   12.472045   12.536350   12.435565  2.653654e+07\n",
              "min    132.389999  129.039993  130.070007  130.059998  4.100000e+07\n",
              "25%    150.167496  147.474998  148.847500  148.932507  7.057260e+07\n",
              "50%    161.970001  156.625000  159.580002  159.260002  8.491905e+07\n",
              "75%    171.057503  167.220001  169.232502  168.970005  1.024875e+08\n",
              "max    182.940002  179.119995  182.630005  182.009995  1.954327e+08"
            ],
            "text/html": [
              "\n",
              "  <div id=\"df-090c1081-bf0f-4fc6-bc1c-58e4c39e4472\">\n",
              "    <div class=\"colab-df-container\">\n",
              "      <div>\n",
              "<style scoped>\n",
              "    .dataframe tbody tr th:only-of-type {\n",
              "        vertical-align: middle;\n",
              "    }\n",
              "\n",
              "    .dataframe tbody tr th {\n",
              "        vertical-align: top;\n",
              "    }\n",
              "\n",
              "    .dataframe thead th {\n",
              "        text-align: right;\n",
              "    }\n",
              "</style>\n",
              "<table border=\"1\" class=\"dataframe\">\n",
              "  <thead>\n",
              "    <tr style=\"text-align: right;\">\n",
              "      <th></th>\n",
              "      <th>high</th>\n",
              "      <th>low</th>\n",
              "      <th>open</th>\n",
              "      <th>close</th>\n",
              "      <th>volume</th>\n",
              "    </tr>\n",
              "  </thead>\n",
              "  <tbody>\n",
              "    <tr>\n",
              "      <th>count</th>\n",
              "      <td>252.000000</td>\n",
              "      <td>252.000000</td>\n",
              "      <td>252.000000</td>\n",
              "      <td>252.000000</td>\n",
              "      <td>2.520000e+02</td>\n",
              "    </tr>\n",
              "    <tr>\n",
              "      <th>mean</th>\n",
              "      <td>160.519008</td>\n",
              "      <td>156.467222</td>\n",
              "      <td>158.382143</td>\n",
              "      <td>158.563770</td>\n",
              "      <td>8.974472e+07</td>\n",
              "    </tr>\n",
              "    <tr>\n",
              "      <th>std</th>\n",
              "      <td>12.394080</td>\n",
              "      <td>12.472045</td>\n",
              "      <td>12.536350</td>\n",
              "      <td>12.435565</td>\n",
              "      <td>2.653654e+07</td>\n",
              "    </tr>\n",
              "    <tr>\n",
              "      <th>min</th>\n",
              "      <td>132.389999</td>\n",
              "      <td>129.039993</td>\n",
              "      <td>130.070007</td>\n",
              "      <td>130.059998</td>\n",
              "      <td>4.100000e+07</td>\n",
              "    </tr>\n",
              "    <tr>\n",
              "      <th>25%</th>\n",
              "      <td>150.167496</td>\n",
              "      <td>147.474998</td>\n",
              "      <td>148.847500</td>\n",
              "      <td>148.932507</td>\n",
              "      <td>7.057260e+07</td>\n",
              "    </tr>\n",
              "    <tr>\n",
              "      <th>50%</th>\n",
              "      <td>161.970001</td>\n",
              "      <td>156.625000</td>\n",
              "      <td>159.580002</td>\n",
              "      <td>159.260002</td>\n",
              "      <td>8.491905e+07</td>\n",
              "    </tr>\n",
              "    <tr>\n",
              "      <th>75%</th>\n",
              "      <td>171.057503</td>\n",
              "      <td>167.220001</td>\n",
              "      <td>169.232502</td>\n",
              "      <td>168.970005</td>\n",
              "      <td>1.024875e+08</td>\n",
              "    </tr>\n",
              "    <tr>\n",
              "      <th>max</th>\n",
              "      <td>182.940002</td>\n",
              "      <td>179.119995</td>\n",
              "      <td>182.630005</td>\n",
              "      <td>182.009995</td>\n",
              "      <td>1.954327e+08</td>\n",
              "    </tr>\n",
              "  </tbody>\n",
              "</table>\n",
              "</div>\n",
              "      <button class=\"colab-df-convert\" onclick=\"convertToInteractive('df-090c1081-bf0f-4fc6-bc1c-58e4c39e4472')\"\n",
              "              title=\"Convert this dataframe to an interactive table.\"\n",
              "              style=\"display:none;\">\n",
              "        \n",
              "  <svg xmlns=\"http://www.w3.org/2000/svg\" height=\"24px\"viewBox=\"0 0 24 24\"\n",
              "       width=\"24px\">\n",
              "    <path d=\"M0 0h24v24H0V0z\" fill=\"none\"/>\n",
              "    <path d=\"M18.56 5.44l.94 2.06.94-2.06 2.06-.94-2.06-.94-.94-2.06-.94 2.06-2.06.94zm-11 1L8.5 8.5l.94-2.06 2.06-.94-2.06-.94L8.5 2.5l-.94 2.06-2.06.94zm10 10l.94 2.06.94-2.06 2.06-.94-2.06-.94-.94-2.06-.94 2.06-2.06.94z\"/><path d=\"M17.41 7.96l-1.37-1.37c-.4-.4-.92-.59-1.43-.59-.52 0-1.04.2-1.43.59L10.3 9.45l-7.72 7.72c-.78.78-.78 2.05 0 2.83L4 21.41c.39.39.9.59 1.41.59.51 0 1.02-.2 1.41-.59l7.78-7.78 2.81-2.81c.8-.78.8-2.07 0-2.86zM5.41 20L4 18.59l7.72-7.72 1.47 1.35L5.41 20z\"/>\n",
              "  </svg>\n",
              "      </button>\n",
              "      \n",
              "  <style>\n",
              "    .colab-df-container {\n",
              "      display:flex;\n",
              "      flex-wrap:wrap;\n",
              "      gap: 12px;\n",
              "    }\n",
              "\n",
              "    .colab-df-convert {\n",
              "      background-color: #E8F0FE;\n",
              "      border: none;\n",
              "      border-radius: 50%;\n",
              "      cursor: pointer;\n",
              "      display: none;\n",
              "      fill: #1967D2;\n",
              "      height: 32px;\n",
              "      padding: 0 0 0 0;\n",
              "      width: 32px;\n",
              "    }\n",
              "\n",
              "    .colab-df-convert:hover {\n",
              "      background-color: #E2EBFA;\n",
              "      box-shadow: 0px 1px 2px rgba(60, 64, 67, 0.3), 0px 1px 3px 1px rgba(60, 64, 67, 0.15);\n",
              "      fill: #174EA6;\n",
              "    }\n",
              "\n",
              "    [theme=dark] .colab-df-convert {\n",
              "      background-color: #3B4455;\n",
              "      fill: #D2E3FC;\n",
              "    }\n",
              "\n",
              "    [theme=dark] .colab-df-convert:hover {\n",
              "      background-color: #434B5C;\n",
              "      box-shadow: 0px 1px 3px 1px rgba(0, 0, 0, 0.15);\n",
              "      filter: drop-shadow(0px 1px 2px rgba(0, 0, 0, 0.3));\n",
              "      fill: #FFFFFF;\n",
              "    }\n",
              "  </style>\n",
              "\n",
              "      <script>\n",
              "        const buttonEl =\n",
              "          document.querySelector('#df-090c1081-bf0f-4fc6-bc1c-58e4c39e4472 button.colab-df-convert');\n",
              "        buttonEl.style.display =\n",
              "          google.colab.kernel.accessAllowed ? 'block' : 'none';\n",
              "\n",
              "        async function convertToInteractive(key) {\n",
              "          const element = document.querySelector('#df-090c1081-bf0f-4fc6-bc1c-58e4c39e4472');\n",
              "          const dataTable =\n",
              "            await google.colab.kernel.invokeFunction('convertToInteractive',\n",
              "                                                     [key], {});\n",
              "          if (!dataTable) return;\n",
              "\n",
              "          const docLinkHtml = 'Like what you see? Visit the ' +\n",
              "            '<a target=\"_blank\" href=https://colab.research.google.com/notebooks/data_table.ipynb>data table notebook</a>'\n",
              "            + ' to learn more about interactive tables.';\n",
              "          element.innerHTML = '';\n",
              "          dataTable['output_type'] = 'display_data';\n",
              "          await google.colab.output.renderOutput(dataTable, element);\n",
              "          const docLink = document.createElement('div');\n",
              "          docLink.innerHTML = docLinkHtml;\n",
              "          element.appendChild(docLink);\n",
              "        }\n",
              "      </script>\n",
              "    </div>\n",
              "  </div>\n",
              "  "
            ]
          },
          "metadata": {},
          "execution_count": 25
        }
      ],
      "source": [
        "df['AAPL'].describe() "
      ]
    },
    {
      "cell_type": "code",
      "execution_count": null,
      "id": "c5cef925-a957-4b3e-b81a-d1a3841bfa09",
      "metadata": {
        "colab": {
          "base_uri": "https://localhost:8080/"
        },
        "id": "c5cef925-a957-4b3e-b81a-d1a3841bfa09",
        "outputId": "deae4bfb-57e5-4031-d7eb-85f41e45aa4c"
      },
      "outputs": [
        {
          "output_type": "execute_result",
          "data": {
            "text/plain": [
              "(252, 5)"
            ]
          },
          "metadata": {},
          "execution_count": 26
        }
      ],
      "source": [
        "df['AAPL'].shape"
      ]
    },
    {
      "cell_type": "code",
      "execution_count": null,
      "id": "7f34973b-b628-4544-b96e-2be1c6d76467",
      "metadata": {
        "colab": {
          "base_uri": "https://localhost:8080/"
        },
        "id": "7f34973b-b628-4544-b96e-2be1c6d76467",
        "outputId": "30073a74-c3cf-4f40-c2c4-55d8c2963a58"
      },
      "outputs": [
        {
          "output_type": "execute_result",
          "data": {
            "text/plain": [
              "251"
            ]
          },
          "metadata": {},
          "execution_count": 27
        }
      ],
      "source": [
        "len(df['AAPL'])-1"
      ]
    },
    {
      "cell_type": "code",
      "execution_count": null,
      "id": "a044b512-e7ac-404e-953d-c39cf9c8c386",
      "metadata": {
        "id": "a044b512-e7ac-404e-953d-c39cf9c8c386"
      },
      "outputs": [],
      "source": [
        "#df['AAPL'].loc[:, df['AAPL'].columns[4]].head()"
      ]
    },
    {
      "cell_type": "code",
      "execution_count": null,
      "id": "965f38db-00ac-4f5b-a0d5-df0b418761ae",
      "metadata": {
        "id": "965f38db-00ac-4f5b-a0d5-df0b418761ae",
        "outputId": "b605d29f-f17d-4bc4-e736-6fc96dec319e"
      },
      "outputs": [
        {
          "data": {
            "text/html": [
              "<div>\n",
              "<style scoped>\n",
              "    .dataframe tbody tr th:only-of-type {\n",
              "        vertical-align: middle;\n",
              "    }\n",
              "\n",
              "    .dataframe tbody tr th {\n",
              "        vertical-align: top;\n",
              "    }\n",
              "\n",
              "    .dataframe thead th {\n",
              "        text-align: right;\n",
              "    }\n",
              "</style>\n",
              "<table border=\"1\" class=\"dataframe\">\n",
              "  <thead>\n",
              "    <tr style=\"text-align: right;\">\n",
              "      <th></th>\n",
              "      <th>volume</th>\n",
              "    </tr>\n",
              "    <tr>\n",
              "      <th>formatted_date</th>\n",
              "      <th></th>\n",
              "    </tr>\n",
              "  </thead>\n",
              "  <tbody>\n",
              "    <tr>\n",
              "      <th>2021-10-18</th>\n",
              "      <td>85589200</td>\n",
              "    </tr>\n",
              "    <tr>\n",
              "      <th>2021-10-19</th>\n",
              "      <td>76378900</td>\n",
              "    </tr>\n",
              "    <tr>\n",
              "      <th>2021-10-20</th>\n",
              "      <td>58418800</td>\n",
              "    </tr>\n",
              "    <tr>\n",
              "      <th>2021-10-21</th>\n",
              "      <td>61421000</td>\n",
              "    </tr>\n",
              "    <tr>\n",
              "      <th>2021-10-22</th>\n",
              "      <td>58883400</td>\n",
              "    </tr>\n",
              "  </tbody>\n",
              "</table>\n",
              "</div>"
            ],
            "text/plain": [
              "                  volume\n",
              "formatted_date          \n",
              "2021-10-18      85589200\n",
              "2021-10-19      76378900\n",
              "2021-10-20      58418800\n",
              "2021-10-21      61421000\n",
              "2021-10-22      58883400"
            ]
          },
          "execution_count": 19,
          "metadata": {},
          "output_type": "execute_result"
        }
      ],
      "source": [
        "#df['AAPL'].iloc[:,[4]].head()"
      ]
    },
    {
      "cell_type": "code",
      "execution_count": null,
      "id": "c4e5a4fa-ffa3-447a-9046-973bc0dfb1e2",
      "metadata": {
        "id": "c4e5a4fa-ffa3-447a-9046-973bc0dfb1e2"
      },
      "outputs": [],
      "source": [
        "for i in stockList:\n",
        "    for lag in range(0,5):\n",
        "        df[i][f'lag_{lag}'] = df[i]['close'].shift(lag)\n",
        "        df[i]['next'] = df[i]['close'].shift(-1)"
      ]
    },
    {
      "cell_type": "code",
      "execution_count": null,
      "id": "50b40d4e-6bfd-4fa7-a223-a3e0efc1b5f2",
      "metadata": {
        "id": "50b40d4e-6bfd-4fa7-a223-a3e0efc1b5f2"
      },
      "outputs": [],
      "source": [
        "def tagger(row):\n",
        "    if row['next']<row['lag_0']:\n",
        "        return '1' #\"buy\"\n",
        "    else:\n",
        "        return '0' #sell\n"
      ]
    },
    {
      "cell_type": "code",
      "execution_count": null,
      "id": "1ec219c6-a407-4bd8-9a84-bb3331e06187",
      "metadata": {
        "id": "1ec219c6-a407-4bd8-9a84-bb3331e06187"
      },
      "outputs": [],
      "source": [
        "for i in stockList:\n",
        "    df[i]['ticker'] = i\n",
        "    df[i]['target'] = df[i].apply(tagger ,axis=1)"
      ]
    },
    {
      "cell_type": "code",
      "execution_count": null,
      "id": "9cac8226-1a47-4136-a9a4-8615a70eefed",
      "metadata": {
        "id": "9cac8226-1a47-4136-a9a4-8615a70eefed",
        "outputId": "977035b4-6876-44c5-b6da-9a2ace65cb04"
      },
      "outputs": [
        {
          "data": {
            "text/html": [
              "<div>\n",
              "<style scoped>\n",
              "    .dataframe tbody tr th:only-of-type {\n",
              "        vertical-align: middle;\n",
              "    }\n",
              "\n",
              "    .dataframe tbody tr th {\n",
              "        vertical-align: top;\n",
              "    }\n",
              "\n",
              "    .dataframe thead th {\n",
              "        text-align: right;\n",
              "    }\n",
              "</style>\n",
              "<table border=\"1\" class=\"dataframe\">\n",
              "  <thead>\n",
              "    <tr style=\"text-align: right;\">\n",
              "      <th></th>\n",
              "      <th>high</th>\n",
              "      <th>low</th>\n",
              "      <th>open</th>\n",
              "      <th>close</th>\n",
              "      <th>volume</th>\n",
              "      <th>lag_0</th>\n",
              "      <th>next</th>\n",
              "      <th>lag_1</th>\n",
              "      <th>lag_2</th>\n",
              "      <th>lag_3</th>\n",
              "      <th>lag_4</th>\n",
              "      <th>ticker</th>\n",
              "      <th>target</th>\n",
              "    </tr>\n",
              "    <tr>\n",
              "      <th>formatted_date</th>\n",
              "      <th></th>\n",
              "      <th></th>\n",
              "      <th></th>\n",
              "      <th></th>\n",
              "      <th></th>\n",
              "      <th></th>\n",
              "      <th></th>\n",
              "      <th></th>\n",
              "      <th></th>\n",
              "      <th></th>\n",
              "      <th></th>\n",
              "      <th></th>\n",
              "      <th></th>\n",
              "    </tr>\n",
              "  </thead>\n",
              "  <tbody>\n",
              "    <tr>\n",
              "      <th>2021-10-22</th>\n",
              "      <td>150.179993</td>\n",
              "      <td>148.639999</td>\n",
              "      <td>149.690002</td>\n",
              "      <td>148.690002</td>\n",
              "      <td>58883400</td>\n",
              "      <td>148.690002</td>\n",
              "      <td>148.639999</td>\n",
              "      <td>149.479996</td>\n",
              "      <td>149.259995</td>\n",
              "      <td>148.759995</td>\n",
              "      <td>146.550003</td>\n",
              "      <td>AAPL</td>\n",
              "      <td>1</td>\n",
              "    </tr>\n",
              "    <tr>\n",
              "      <th>2021-10-25</th>\n",
              "      <td>149.369995</td>\n",
              "      <td>147.619995</td>\n",
              "      <td>148.679993</td>\n",
              "      <td>148.639999</td>\n",
              "      <td>50720600</td>\n",
              "      <td>148.639999</td>\n",
              "      <td>149.320007</td>\n",
              "      <td>148.690002</td>\n",
              "      <td>149.479996</td>\n",
              "      <td>149.259995</td>\n",
              "      <td>148.759995</td>\n",
              "      <td>AAPL</td>\n",
              "      <td>0</td>\n",
              "    </tr>\n",
              "    <tr>\n",
              "      <th>2021-10-26</th>\n",
              "      <td>150.839996</td>\n",
              "      <td>149.009995</td>\n",
              "      <td>149.330002</td>\n",
              "      <td>149.320007</td>\n",
              "      <td>60893400</td>\n",
              "      <td>149.320007</td>\n",
              "      <td>148.850006</td>\n",
              "      <td>148.639999</td>\n",
              "      <td>148.690002</td>\n",
              "      <td>149.479996</td>\n",
              "      <td>149.259995</td>\n",
              "      <td>AAPL</td>\n",
              "      <td>1</td>\n",
              "    </tr>\n",
              "    <tr>\n",
              "      <th>2021-10-27</th>\n",
              "      <td>149.729996</td>\n",
              "      <td>148.490005</td>\n",
              "      <td>149.360001</td>\n",
              "      <td>148.850006</td>\n",
              "      <td>56094900</td>\n",
              "      <td>148.850006</td>\n",
              "      <td>152.570007</td>\n",
              "      <td>149.320007</td>\n",
              "      <td>148.639999</td>\n",
              "      <td>148.690002</td>\n",
              "      <td>149.479996</td>\n",
              "      <td>AAPL</td>\n",
              "      <td>0</td>\n",
              "    </tr>\n",
              "    <tr>\n",
              "      <th>2021-10-28</th>\n",
              "      <td>153.169998</td>\n",
              "      <td>149.720001</td>\n",
              "      <td>149.820007</td>\n",
              "      <td>152.570007</td>\n",
              "      <td>100077900</td>\n",
              "      <td>152.570007</td>\n",
              "      <td>149.800003</td>\n",
              "      <td>148.850006</td>\n",
              "      <td>149.320007</td>\n",
              "      <td>148.639999</td>\n",
              "      <td>148.690002</td>\n",
              "      <td>AAPL</td>\n",
              "      <td>1</td>\n",
              "    </tr>\n",
              "  </tbody>\n",
              "</table>\n",
              "</div>"
            ],
            "text/plain": [
              "                      high         low        open       close     volume  \\\n",
              "formatted_date                                                              \n",
              "2021-10-22      150.179993  148.639999  149.690002  148.690002   58883400   \n",
              "2021-10-25      149.369995  147.619995  148.679993  148.639999   50720600   \n",
              "2021-10-26      150.839996  149.009995  149.330002  149.320007   60893400   \n",
              "2021-10-27      149.729996  148.490005  149.360001  148.850006   56094900   \n",
              "2021-10-28      153.169998  149.720001  149.820007  152.570007  100077900   \n",
              "\n",
              "                     lag_0        next       lag_1       lag_2       lag_3  \\\n",
              "formatted_date                                                               \n",
              "2021-10-22      148.690002  148.639999  149.479996  149.259995  148.759995   \n",
              "2021-10-25      148.639999  149.320007  148.690002  149.479996  149.259995   \n",
              "2021-10-26      149.320007  148.850006  148.639999  148.690002  149.479996   \n",
              "2021-10-27      148.850006  152.570007  149.320007  148.639999  148.690002   \n",
              "2021-10-28      152.570007  149.800003  148.850006  149.320007  148.639999   \n",
              "\n",
              "                     lag_4 ticker target  \n",
              "formatted_date                            \n",
              "2021-10-22      146.550003   AAPL      1  \n",
              "2021-10-25      148.759995   AAPL      0  \n",
              "2021-10-26      149.259995   AAPL      1  \n",
              "2021-10-27      149.479996   AAPL      0  \n",
              "2021-10-28      148.690002   AAPL      1  "
            ]
          },
          "execution_count": 23,
          "metadata": {},
          "output_type": "execute_result"
        }
      ],
      "source": [
        "df['AAPL'].dropna(axis=0).head()"
      ]
    },
    {
      "cell_type": "code",
      "execution_count": null,
      "id": "46dedba1-ff11-4ca1-a20d-80004a8d5f5a",
      "metadata": {
        "id": "46dedba1-ff11-4ca1-a20d-80004a8d5f5a"
      },
      "outputs": [],
      "source": [
        "for i in stockList:\n",
        "    df[i]= df[i].dropna(axis=0)\n",
        "   "
      ]
    },
    {
      "cell_type": "code",
      "execution_count": null,
      "id": "e6e4f95e-80d2-4bfd-8c61-9a9beb0c29ff",
      "metadata": {
        "colab": {
          "base_uri": "https://localhost:8080/",
          "height": 302
        },
        "id": "e6e4f95e-80d2-4bfd-8c61-9a9beb0c29ff",
        "outputId": "e0975e7a-08b1-41f4-f4fe-a354450417ec"
      },
      "outputs": [
        {
          "output_type": "execute_result",
          "data": {
            "text/plain": [
              "                      high         low        open       close    volume  \\\n",
              "formatted_date                                                             \n",
              "2021-10-27      326.100006  316.000000  316.000000  323.170013  52588700   \n",
              "2021-10-28      324.869995  321.359985  324.329987  324.350006  26297900   \n",
              "2021-10-29      332.000000  323.899994  324.130005  331.619995  34766000   \n",
              "2021-11-01      331.489990  326.369995  331.359985  329.369995  27073200   \n",
              "2021-11-02      333.450012  330.000000  330.309998  333.130005  26487100   \n",
              "\n",
              "                     lag_0        next       lag_1       lag_2       lag_3  \\\n",
              "formatted_date                                                               \n",
              "2021-10-27      323.170013  324.350006  310.109985  308.130005  309.160004   \n",
              "2021-10-28      324.350006  331.619995  323.170013  310.109985  308.130005   \n",
              "2021-10-29      331.619995  329.369995  324.350006  323.170013  310.109985   \n",
              "2021-11-01      329.369995  333.130005  331.619995  324.350006  323.170013   \n",
              "2021-11-02      333.130005  334.000000  329.369995  331.619995  324.350006   \n",
              "\n",
              "                     lag_4 ticker target  \n",
              "formatted_date                            \n",
              "2021-10-27      310.760010   MSFT      0  \n",
              "2021-10-28      309.160004   MSFT      0  \n",
              "2021-10-29      308.130005   MSFT      1  \n",
              "2021-11-01      310.109985   MSFT      0  \n",
              "2021-11-02      323.170013   MSFT      0  "
            ],
            "text/html": [
              "\n",
              "  <div id=\"df-7cab4c67-a22e-419b-afd1-c10b56d4a241\">\n",
              "    <div class=\"colab-df-container\">\n",
              "      <div>\n",
              "<style scoped>\n",
              "    .dataframe tbody tr th:only-of-type {\n",
              "        vertical-align: middle;\n",
              "    }\n",
              "\n",
              "    .dataframe tbody tr th {\n",
              "        vertical-align: top;\n",
              "    }\n",
              "\n",
              "    .dataframe thead th {\n",
              "        text-align: right;\n",
              "    }\n",
              "</style>\n",
              "<table border=\"1\" class=\"dataframe\">\n",
              "  <thead>\n",
              "    <tr style=\"text-align: right;\">\n",
              "      <th></th>\n",
              "      <th>high</th>\n",
              "      <th>low</th>\n",
              "      <th>open</th>\n",
              "      <th>close</th>\n",
              "      <th>volume</th>\n",
              "      <th>lag_0</th>\n",
              "      <th>next</th>\n",
              "      <th>lag_1</th>\n",
              "      <th>lag_2</th>\n",
              "      <th>lag_3</th>\n",
              "      <th>lag_4</th>\n",
              "      <th>ticker</th>\n",
              "      <th>target</th>\n",
              "    </tr>\n",
              "    <tr>\n",
              "      <th>formatted_date</th>\n",
              "      <th></th>\n",
              "      <th></th>\n",
              "      <th></th>\n",
              "      <th></th>\n",
              "      <th></th>\n",
              "      <th></th>\n",
              "      <th></th>\n",
              "      <th></th>\n",
              "      <th></th>\n",
              "      <th></th>\n",
              "      <th></th>\n",
              "      <th></th>\n",
              "      <th></th>\n",
              "    </tr>\n",
              "  </thead>\n",
              "  <tbody>\n",
              "    <tr>\n",
              "      <th>2021-10-27</th>\n",
              "      <td>326.100006</td>\n",
              "      <td>316.000000</td>\n",
              "      <td>316.000000</td>\n",
              "      <td>323.170013</td>\n",
              "      <td>52588700</td>\n",
              "      <td>323.170013</td>\n",
              "      <td>324.350006</td>\n",
              "      <td>310.109985</td>\n",
              "      <td>308.130005</td>\n",
              "      <td>309.160004</td>\n",
              "      <td>310.760010</td>\n",
              "      <td>MSFT</td>\n",
              "      <td>0</td>\n",
              "    </tr>\n",
              "    <tr>\n",
              "      <th>2021-10-28</th>\n",
              "      <td>324.869995</td>\n",
              "      <td>321.359985</td>\n",
              "      <td>324.329987</td>\n",
              "      <td>324.350006</td>\n",
              "      <td>26297900</td>\n",
              "      <td>324.350006</td>\n",
              "      <td>331.619995</td>\n",
              "      <td>323.170013</td>\n",
              "      <td>310.109985</td>\n",
              "      <td>308.130005</td>\n",
              "      <td>309.160004</td>\n",
              "      <td>MSFT</td>\n",
              "      <td>0</td>\n",
              "    </tr>\n",
              "    <tr>\n",
              "      <th>2021-10-29</th>\n",
              "      <td>332.000000</td>\n",
              "      <td>323.899994</td>\n",
              "      <td>324.130005</td>\n",
              "      <td>331.619995</td>\n",
              "      <td>34766000</td>\n",
              "      <td>331.619995</td>\n",
              "      <td>329.369995</td>\n",
              "      <td>324.350006</td>\n",
              "      <td>323.170013</td>\n",
              "      <td>310.109985</td>\n",
              "      <td>308.130005</td>\n",
              "      <td>MSFT</td>\n",
              "      <td>1</td>\n",
              "    </tr>\n",
              "    <tr>\n",
              "      <th>2021-11-01</th>\n",
              "      <td>331.489990</td>\n",
              "      <td>326.369995</td>\n",
              "      <td>331.359985</td>\n",
              "      <td>329.369995</td>\n",
              "      <td>27073200</td>\n",
              "      <td>329.369995</td>\n",
              "      <td>333.130005</td>\n",
              "      <td>331.619995</td>\n",
              "      <td>324.350006</td>\n",
              "      <td>323.170013</td>\n",
              "      <td>310.109985</td>\n",
              "      <td>MSFT</td>\n",
              "      <td>0</td>\n",
              "    </tr>\n",
              "    <tr>\n",
              "      <th>2021-11-02</th>\n",
              "      <td>333.450012</td>\n",
              "      <td>330.000000</td>\n",
              "      <td>330.309998</td>\n",
              "      <td>333.130005</td>\n",
              "      <td>26487100</td>\n",
              "      <td>333.130005</td>\n",
              "      <td>334.000000</td>\n",
              "      <td>329.369995</td>\n",
              "      <td>331.619995</td>\n",
              "      <td>324.350006</td>\n",
              "      <td>323.170013</td>\n",
              "      <td>MSFT</td>\n",
              "      <td>0</td>\n",
              "    </tr>\n",
              "  </tbody>\n",
              "</table>\n",
              "</div>\n",
              "      <button class=\"colab-df-convert\" onclick=\"convertToInteractive('df-7cab4c67-a22e-419b-afd1-c10b56d4a241')\"\n",
              "              title=\"Convert this dataframe to an interactive table.\"\n",
              "              style=\"display:none;\">\n",
              "        \n",
              "  <svg xmlns=\"http://www.w3.org/2000/svg\" height=\"24px\"viewBox=\"0 0 24 24\"\n",
              "       width=\"24px\">\n",
              "    <path d=\"M0 0h24v24H0V0z\" fill=\"none\"/>\n",
              "    <path d=\"M18.56 5.44l.94 2.06.94-2.06 2.06-.94-2.06-.94-.94-2.06-.94 2.06-2.06.94zm-11 1L8.5 8.5l.94-2.06 2.06-.94-2.06-.94L8.5 2.5l-.94 2.06-2.06.94zm10 10l.94 2.06.94-2.06 2.06-.94-2.06-.94-.94-2.06-.94 2.06-2.06.94z\"/><path d=\"M17.41 7.96l-1.37-1.37c-.4-.4-.92-.59-1.43-.59-.52 0-1.04.2-1.43.59L10.3 9.45l-7.72 7.72c-.78.78-.78 2.05 0 2.83L4 21.41c.39.39.9.59 1.41.59.51 0 1.02-.2 1.41-.59l7.78-7.78 2.81-2.81c.8-.78.8-2.07 0-2.86zM5.41 20L4 18.59l7.72-7.72 1.47 1.35L5.41 20z\"/>\n",
              "  </svg>\n",
              "      </button>\n",
              "      \n",
              "  <style>\n",
              "    .colab-df-container {\n",
              "      display:flex;\n",
              "      flex-wrap:wrap;\n",
              "      gap: 12px;\n",
              "    }\n",
              "\n",
              "    .colab-df-convert {\n",
              "      background-color: #E8F0FE;\n",
              "      border: none;\n",
              "      border-radius: 50%;\n",
              "      cursor: pointer;\n",
              "      display: none;\n",
              "      fill: #1967D2;\n",
              "      height: 32px;\n",
              "      padding: 0 0 0 0;\n",
              "      width: 32px;\n",
              "    }\n",
              "\n",
              "    .colab-df-convert:hover {\n",
              "      background-color: #E2EBFA;\n",
              "      box-shadow: 0px 1px 2px rgba(60, 64, 67, 0.3), 0px 1px 3px 1px rgba(60, 64, 67, 0.15);\n",
              "      fill: #174EA6;\n",
              "    }\n",
              "\n",
              "    [theme=dark] .colab-df-convert {\n",
              "      background-color: #3B4455;\n",
              "      fill: #D2E3FC;\n",
              "    }\n",
              "\n",
              "    [theme=dark] .colab-df-convert:hover {\n",
              "      background-color: #434B5C;\n",
              "      box-shadow: 0px 1px 3px 1px rgba(0, 0, 0, 0.15);\n",
              "      filter: drop-shadow(0px 1px 2px rgba(0, 0, 0, 0.3));\n",
              "      fill: #FFFFFF;\n",
              "    }\n",
              "  </style>\n",
              "\n",
              "      <script>\n",
              "        const buttonEl =\n",
              "          document.querySelector('#df-7cab4c67-a22e-419b-afd1-c10b56d4a241 button.colab-df-convert');\n",
              "        buttonEl.style.display =\n",
              "          google.colab.kernel.accessAllowed ? 'block' : 'none';\n",
              "\n",
              "        async function convertToInteractive(key) {\n",
              "          const element = document.querySelector('#df-7cab4c67-a22e-419b-afd1-c10b56d4a241');\n",
              "          const dataTable =\n",
              "            await google.colab.kernel.invokeFunction('convertToInteractive',\n",
              "                                                     [key], {});\n",
              "          if (!dataTable) return;\n",
              "\n",
              "          const docLinkHtml = 'Like what you see? Visit the ' +\n",
              "            '<a target=\"_blank\" href=https://colab.research.google.com/notebooks/data_table.ipynb>data table notebook</a>'\n",
              "            + ' to learn more about interactive tables.';\n",
              "          element.innerHTML = '';\n",
              "          dataTable['output_type'] = 'display_data';\n",
              "          await google.colab.output.renderOutput(dataTable, element);\n",
              "          const docLink = document.createElement('div');\n",
              "          docLink.innerHTML = docLinkHtml;\n",
              "          element.appendChild(docLink);\n",
              "        }\n",
              "      </script>\n",
              "    </div>\n",
              "  </div>\n",
              "  "
            ]
          },
          "metadata": {},
          "execution_count": 36
        }
      ],
      "source": [
        "df['MSFT'].head()"
      ]
    },
    {
      "cell_type": "code",
      "execution_count": null,
      "id": "19cfe103-ddd3-41ea-9ea7-12124aabcdcb",
      "metadata": {
        "colab": {
          "base_uri": "https://localhost:8080/",
          "height": 316
        },
        "id": "19cfe103-ddd3-41ea-9ea7-12124aabcdcb",
        "outputId": "98725ee1-5fef-4f6e-81c4-1110e7f7a6e9"
      },
      "outputs": [
        {
          "output_type": "stream",
          "name": "stdout",
          "text": [
            "0    124\n",
            "1    123\n",
            "Name: target, dtype: int64\n"
          ]
        },
        {
          "output_type": "display_data",
          "data": {
            "text/plain": [
              "<Figure size 432x288 with 1 Axes>"
            ],
            "image/png": "[encoded data removed]"
          },
          "metadata": {
            "needs_background": "light"
          }
        }
      ],
      "source": [
        "#Check to see if data is balanced\n",
        "print(df['AAPL']['target'].value_counts())\n",
        "plt.hist(df['AAPL']['target'], facecolor='g')\n",
        "plt.show()"
      ]
    },
    {
      "cell_type": "code",
      "execution_count": null,
      "id": "c2913423-a7f3-414d-9469-b0cab44bc009",
      "metadata": {
        "colab": {
          "base_uri": "https://localhost:8080/"
        },
        "id": "c2913423-a7f3-414d-9469-b0cab44bc009",
        "outputId": "307f5a32-169f-4572-e30c-fdc106a029b0"
      },
      "outputs": [
        {
          "output_type": "execute_result",
          "data": {
            "text/plain": [
              "Index(['high', 'low', 'open', 'close', 'volume', 'lag_0', 'next', 'lag_1',\n",
              "       'lag_2', 'lag_3', 'lag_4', 'ticker', 'target'],\n",
              "      dtype='object')"
            ]
          },
          "metadata": {},
          "execution_count": 39
        }
      ],
      "source": [
        "columns = df['AAPL'].columns\n",
        "columns"
      ]
    },
    {
      "cell_type": "code",
      "execution_count": null,
      "id": "2ecd9b36-6013-4831-bf08-dc9d85691116",
      "metadata": {
        "id": "2ecd9b36-6013-4831-bf08-dc9d85691116"
      },
      "outputs": [],
      "source": [
        "data = pd.concat([df[i] for i in stockList], axis=1).reindex(df['AAPL'].index)\n"
      ]
    },
    {
      "cell_type": "code",
      "execution_count": null,
      "id": "3fdf1007-e6b4-4ae2-9af2-a8a36e1268b3",
      "metadata": {
        "colab": {
          "base_uri": "https://localhost:8080/"
        },
        "id": "3fdf1007-e6b4-4ae2-9af2-a8a36e1268b3",
        "outputId": "ff6edf83-9401-4b79-e377-c7abbb9dba33"
      },
      "outputs": [
        {
          "output_type": "execute_result",
          "data": {
            "text/plain": [
              "(247, 6539)"
            ]
          },
          "metadata": {},
          "execution_count": 41
        }
      ],
      "source": [
        "data.shape"
      ]
    },
    {
      "cell_type": "markdown",
      "id": "c16f0eeb-6622-459e-85c9-739e8133cbd0",
      "metadata": {
        "tags": [],
        "id": "c16f0eeb-6622-459e-85c9-739e8133cbd0"
      },
      "source": [
        "#### We make all prices prior to 2021 as a training set and the rest as test set"
      ]
    },
    {
      "cell_type": "code",
      "execution_count": null,
      "id": "022d887a-d6b7-4f28-b0a1-9a91e895b3a4",
      "metadata": {
        "id": "022d887a-d6b7-4f28-b0a1-9a91e895b3a4"
      },
      "outputs": [],
      "source": [
        "def split(dataframe, border):\n",
        "    return dataframe.loc[:border], dataframe.loc[border:]"
      ]
    },
    {
      "cell_type": "code",
      "execution_count": null,
      "id": "f4b004f5-1eaf-445d-829d-ab02b3658108",
      "metadata": {
        "id": "f4b004f5-1eaf-445d-829d-ab02b3658108"
      },
      "outputs": [],
      "source": [
        "\n",
        "    data_train, data_test = split(data, \"2022-05-31\")"
      ]
    },
    {
      "cell_type": "code",
      "execution_count": null,
      "id": "5784f196-b037-4fa1-a21c-da9265a01ae1",
      "metadata": {
        "id": "5784f196-b037-4fa1-a21c-da9265a01ae1"
      },
      "outputs": [],
      "source": [
        "data_test = data_test.iloc[1:, :]"
      ]
    },
    {
      "cell_type": "code",
      "execution_count": null,
      "id": "38ab28dd-d411-41cf-830c-6f1ff1321be0",
      "metadata": {
        "colab": {
          "base_uri": "https://localhost:8080/",
          "height": 331
        },
        "id": "38ab28dd-d411-41cf-830c-6f1ff1321be0",
        "outputId": "e9e2c261-59ee-499f-f82d-77775115dc45"
      },
      "outputs": [
        {
          "output_type": "execute_result",
          "data": {
            "text/plain": [
              "                      high         low        open       close   volume  \\\n",
              "formatted_date                                                            \n",
              "2022-06-01      128.979996  122.430000  127.860001  123.089996  1757600   \n",
              "2022-06-02      129.190002  122.300003  122.959999  129.100006  1444400   \n",
              "2022-06-03      128.720001  126.419998  127.620003  128.490005  1722800   \n",
              "2022-06-06      130.000000  126.970001  129.380005  127.629997  1310600   \n",
              "2022-06-07      131.199997  126.570000  126.570000  128.899994  1236300   \n",
              "\n",
              "                ticker       lag_0        next       lag_1       lag_2  ...  \\\n",
              "formatted_date                                                          ...   \n",
              "2022-06-01           A  123.089996  129.100006  127.559998  130.550003  ...   \n",
              "2022-06-02           A  129.100006  128.490005  123.089996  127.559998  ...   \n",
              "2022-06-03           A  128.490005  127.629997  129.100006  123.089996  ...   \n",
              "2022-06-06           A  127.629997  128.899994  128.490005  129.100006  ...   \n",
              "2022-06-07           A  128.899994  126.839996  127.629997  128.490005  ...   \n",
              "\n",
              "                     close   volume       lag_0        next       lag_1  \\\n",
              "formatted_date                                                            \n",
              "2022-06-01      167.020004  1733600  167.020004  172.699997  170.929993   \n",
              "2022-06-02      172.699997  1399900  172.699997  169.009995  167.020004   \n",
              "2022-06-03      169.009995  1208300  169.009995  171.009995  172.699997   \n",
              "2022-06-06      171.009995  1414900  171.009995  173.779999  169.009995   \n",
              "2022-06-07      173.779999  1473400  173.779999  171.289993  171.009995   \n",
              "\n",
              "                     lag_2       lag_3       lag_4  ticker  target  \n",
              "formatted_date                                                      \n",
              "2022-06-01      172.100006  165.899994  163.029999     ZTS       0  \n",
              "2022-06-02      170.929993  172.100006  165.899994     ZTS       1  \n",
              "2022-06-03      167.020004  170.929993  172.100006     ZTS       0  \n",
              "2022-06-06      172.699997  167.020004  170.929993     ZTS       0  \n",
              "2022-06-07      169.009995  172.699997  167.020004     ZTS       1  \n",
              "\n",
              "[5 rows x 6539 columns]"
            ],
            "text/html": [
              "\n",
              "  <div id=\"df-88b9efd3-74d6-491a-aa7a-c91c7aa08d6c\">\n",
              "    <div class=\"colab-df-container\">\n",
              "      <div>\n",
              "<style scoped>\n",
              "    .dataframe tbody tr th:only-of-type {\n",
              "        vertical-align: middle;\n",
              "    }\n",
              "\n",
              "    .dataframe tbody tr th {\n",
              "        vertical-align: top;\n",
              "    }\n",
              "\n",
              "    .dataframe thead th {\n",
              "        text-align: right;\n",
              "    }\n",
              "</style>\n",
              "<table border=\"1\" class=\"dataframe\">\n",
              "  <thead>\n",
              "    <tr style=\"text-align: right;\">\n",
              "      <th></th>\n",
              "      <th>high</th>\n",
              "      <th>low</th>\n",
              "      <th>open</th>\n",
              "      <th>close</th>\n",
              "      <th>volume</th>\n",
              "      <th>ticker</th>\n",
              "      <th>lag_0</th>\n",
              "      <th>next</th>\n",
              "      <th>lag_1</th>\n",
              "      <th>lag_2</th>\n",
              "      <th>...</th>\n",
              "      <th>close</th>\n",
              "      <th>volume</th>\n",
              "      <th>lag_0</th>\n",
              "      <th>next</th>\n",
              "      <th>lag_1</th>\n",
              "      <th>lag_2</th>\n",
              "      <th>lag_3</th>\n",
              "      <th>lag_4</th>\n",
              "      <th>ticker</th>\n",
              "      <th>target</th>\n",
              "    </tr>\n",
              "    <tr>\n",
              "      <th>formatted_date</th>\n",
              "      <th></th>\n",
              "      <th></th>\n",
              "      <th></th>\n",
              "      <th></th>\n",
              "      <th></th>\n",
              "      <th></th>\n",
              "      <th></th>\n",
              "      <th></th>\n",
              "      <th></th>\n",
              "      <th></th>\n",
              "      <th></th>\n",
              "      <th></th>\n",
              "      <th></th>\n",
              "      <th></th>\n",
              "      <th></th>\n",
              "      <th></th>\n",
              "      <th></th>\n",
              "      <th></th>\n",
              "      <th></th>\n",
              "      <th></th>\n",
              "      <th></th>\n",
              "    </tr>\n",
              "  </thead>\n",
              "  <tbody>\n",
              "    <tr>\n",
              "      <th>2022-06-01</th>\n",
              "      <td>128.979996</td>\n",
              "      <td>122.430000</td>\n",
              "      <td>127.860001</td>\n",
              "      <td>123.089996</td>\n",
              "      <td>1757600</td>\n",
              "      <td>A</td>\n",
              "      <td>123.089996</td>\n",
              "      <td>129.100006</td>\n",
              "      <td>127.559998</td>\n",
              "      <td>130.550003</td>\n",
              "      <td>...</td>\n",
              "      <td>167.020004</td>\n",
              "      <td>1733600</td>\n",
              "      <td>167.020004</td>\n",
              "      <td>172.699997</td>\n",
              "      <td>170.929993</td>\n",
              "      <td>172.100006</td>\n",
              "      <td>165.899994</td>\n",
              "      <td>163.029999</td>\n",
              "      <td>ZTS</td>\n",
              "      <td>0</td>\n",
              "    </tr>\n",
              "    <tr>\n",
              "      <th>2022-06-02</th>\n",
              "      <td>129.190002</td>\n",
              "      <td>122.300003</td>\n",
              "      <td>122.959999</td>\n",
              "      <td>129.100006</td>\n",
              "      <td>1444400</td>\n",
              "      <td>A</td>\n",
              "      <td>129.100006</td>\n",
              "      <td>128.490005</td>\n",
              "      <td>123.089996</td>\n",
              "      <td>127.559998</td>\n",
              "      <td>...</td>\n",
              "      <td>172.699997</td>\n",
              "      <td>1399900</td>\n",
              "      <td>172.699997</td>\n",
              "      <td>169.009995</td>\n",
              "      <td>167.020004</td>\n",
              "      <td>170.929993</td>\n",
              "      <td>172.100006</td>\n",
              "      <td>165.899994</td>\n",
              "      <td>ZTS</td>\n",
              "      <td>1</td>\n",
              "    </tr>\n",
              "    <tr>\n",
              "      <th>2022-06-03</th>\n",
              "      <td>128.720001</td>\n",
              "      <td>126.419998</td>\n",
              "      <td>127.620003</td>\n",
              "      <td>128.490005</td>\n",
              "      <td>1722800</td>\n",
              "      <td>A</td>\n",
              "      <td>128.490005</td>\n",
              "      <td>127.629997</td>\n",
              "      <td>129.100006</td>\n",
              "      <td>123.089996</td>\n",
              "      <td>...</td>\n",
              "      <td>169.009995</td>\n",
              "      <td>1208300</td>\n",
              "      <td>169.009995</td>\n",
              "      <td>171.009995</td>\n",
              "      <td>172.699997</td>\n",
              "      <td>167.020004</td>\n",
              "      <td>170.929993</td>\n",
              "      <td>172.100006</td>\n",
              "      <td>ZTS</td>\n",
              "      <td>0</td>\n",
              "    </tr>\n",
              "    <tr>\n",
              "      <th>2022-06-06</th>\n",
              "      <td>130.000000</td>\n",
              "      <td>126.970001</td>\n",
              "      <td>129.380005</td>\n",
              "      <td>127.629997</td>\n",
              "      <td>1310600</td>\n",
              "      <td>A</td>\n",
              "      <td>127.629997</td>\n",
              "      <td>128.899994</td>\n",
              "      <td>128.490005</td>\n",
              "      <td>129.100006</td>\n",
              "      <td>...</td>\n",
              "      <td>171.009995</td>\n",
              "      <td>1414900</td>\n",
              "      <td>171.009995</td>\n",
              "      <td>173.779999</td>\n",
              "      <td>169.009995</td>\n",
              "      <td>172.699997</td>\n",
              "      <td>167.020004</td>\n",
              "      <td>170.929993</td>\n",
              "      <td>ZTS</td>\n",
              "      <td>0</td>\n",
              "    </tr>\n",
              "    <tr>\n",
              "      <th>2022-06-07</th>\n",
              "      <td>131.199997</td>\n",
              "      <td>126.570000</td>\n",
              "      <td>126.570000</td>\n",
              "      <td>128.899994</td>\n",
              "      <td>1236300</td>\n",
              "      <td>A</td>\n",
              "      <td>128.899994</td>\n",
              "      <td>126.839996</td>\n",
              "      <td>127.629997</td>\n",
              "      <td>128.490005</td>\n",
              "      <td>...</td>\n",
              "      <td>173.779999</td>\n",
              "      <td>1473400</td>\n",
              "      <td>173.779999</td>\n",
              "      <td>171.289993</td>\n",
              "      <td>171.009995</td>\n",
              "      <td>169.009995</td>\n",
              "      <td>172.699997</td>\n",
              "      <td>167.020004</td>\n",
              "      <td>ZTS</td>\n",
              "      <td>1</td>\n",
              "    </tr>\n",
              "  </tbody>\n",
              "</table>\n",
              "<p>5 rows × 6539 columns</p>\n",
              "</div>\n",
              "      <button class=\"colab-df-convert\" onclick=\"convertToInteractive('df-88b9efd3-74d6-491a-aa7a-c91c7aa08d6c')\"\n",
              "              title=\"Convert this dataframe to an interactive table.\"\n",
              "              style=\"display:none;\">\n",
              "        \n",
              "  <svg xmlns=\"http://www.w3.org/2000/svg\" height=\"24px\"viewBox=\"0 0 24 24\"\n",
              "       width=\"24px\">\n",
              "    <path d=\"M0 0h24v24H0V0z\" fill=\"none\"/>\n",
              "    <path d=\"M18.56 5.44l.94 2.06.94-2.06 2.06-.94-2.06-.94-.94-2.06-.94 2.06-2.06.94zm-11 1L8.5 8.5l.94-2.06 2.06-.94-2.06-.94L8.5 2.5l-.94 2.06-2.06.94zm10 10l.94 2.06.94-2.06 2.06-.94-2.06-.94-.94-2.06-.94 2.06-2.06.94z\"/><path d=\"M17.41 7.96l-1.37-1.37c-.4-.4-.92-.59-1.43-.59-.52 0-1.04.2-1.43.59L10.3 9.45l-7.72 7.72c-.78.78-.78 2.05 0 2.83L4 21.41c.39.39.9.59 1.41.59.51 0 1.02-.2 1.41-.59l7.78-7.78 2.81-2.81c.8-.78.8-2.07 0-2.86zM5.41 20L4 18.59l7.72-7.72 1.47 1.35L5.41 20z\"/>\n",
              "  </svg>\n",
              "      </button>\n",
              "      \n",
              "  <style>\n",
              "    .colab-df-container {\n",
              "      display:flex;\n",
              "      flex-wrap:wrap;\n",
              "      gap: 12px;\n",
              "    }\n",
              "\n",
              "    .colab-df-convert {\n",
              "      background-color: #E8F0FE;\n",
              "      border: none;\n",
              "      border-radius: 50%;\n",
              "      cursor: pointer;\n",
              "      display: none;\n",
              "      fill: #1967D2;\n",
              "      height: 32px;\n",
              "      padding: 0 0 0 0;\n",
              "      width: 32px;\n",
              "    }\n",
              "\n",
              "    .colab-df-convert:hover {\n",
              "      background-color: #E2EBFA;\n",
              "      box-shadow: 0px 1px 2px rgba(60, 64, 67, 0.3), 0px 1px 3px 1px rgba(60, 64, 67, 0.15);\n",
              "      fill: #174EA6;\n",
              "    }\n",
              "\n",
              "    [theme=dark] .colab-df-convert {\n",
              "      background-color: #3B4455;\n",
              "      fill: #D2E3FC;\n",
              "    }\n",
              "\n",
              "    [theme=dark] .colab-df-convert:hover {\n",
              "      background-color: #434B5C;\n",
              "      box-shadow: 0px 1px 3px 1px rgba(0, 0, 0, 0.15);\n",
              "      filter: drop-shadow(0px 1px 2px rgba(0, 0, 0, 0.3));\n",
              "      fill: #FFFFFF;\n",
              "    }\n",
              "  </style>\n",
              "\n",
              "      <script>\n",
              "        const buttonEl =\n",
              "          document.querySelector('#df-88b9efd3-74d6-491a-aa7a-c91c7aa08d6c button.colab-df-convert');\n",
              "        buttonEl.style.display =\n",
              "          google.colab.kernel.accessAllowed ? 'block' : 'none';\n",
              "\n",
              "        async function convertToInteractive(key) {\n",
              "          const element = document.querySelector('#df-88b9efd3-74d6-491a-aa7a-c91c7aa08d6c');\n",
              "          const dataTable =\n",
              "            await google.colab.kernel.invokeFunction('convertToInteractive',\n",
              "                                                     [key], {});\n",
              "          if (!dataTable) return;\n",
              "\n",
              "          const docLinkHtml = 'Like what you see? Visit the ' +\n",
              "            '<a target=\"_blank\" href=https://colab.research.google.com/notebooks/data_table.ipynb>data table notebook</a>'\n",
              "            + ' to learn more about interactive tables.';\n",
              "          element.innerHTML = '';\n",
              "          dataTable['output_type'] = 'display_data';\n",
              "          await google.colab.output.renderOutput(dataTable, element);\n",
              "          const docLink = document.createElement('div');\n",
              "          docLink.innerHTML = docLinkHtml;\n",
              "          element.appendChild(docLink);\n",
              "        }\n",
              "      </script>\n",
              "    </div>\n",
              "  </div>\n",
              "  "
            ]
          },
          "metadata": {},
          "execution_count": 45
        }
      ],
      "source": [
        "data_test.head()"
      ]
    },
    {
      "cell_type": "markdown",
      "id": "8909b5ec-065a-439a-8cb9-d5d293c6bc3c",
      "metadata": {
        "id": "8909b5ec-065a-439a-8cb9-d5d293c6bc3c"
      },
      "source": [
        "#### Here are an example plot of Apple"
      ]
    },
    {
      "cell_type": "code",
      "execution_count": null,
      "id": "8c95b541-58d9-4c77-93a4-289af1d32802",
      "metadata": {
        "colab": {
          "base_uri": "https://localhost:8080/",
          "height": 133
        },
        "id": "8c95b541-58d9-4c77-93a4-289af1d32802",
        "outputId": "4f13bbb3-4c92-46fe-aff2-ba9055313da6"
      },
      "outputs": [
        {
          "output_type": "error",
          "ename": "IndentationError",
          "evalue": "ignored",
          "traceback": [
            "\u001b[0;36m  File \u001b[0;32m\"<tokenize>\"\u001b[0;36m, line \u001b[0;32m3\u001b[0m\n\u001b[0;31m    print(\"\\n\")\u001b[0m\n\u001b[0m    ^\u001b[0m\n\u001b[0;31mIndentationError\u001b[0m\u001b[0;31m:\u001b[0m unindent does not match any outer indentation level\n"
          ]
        }
      ],
      "source": [
        "#for i in transform_train.keys():\n",
        "     print(i, transform_train[i].shape)\n",
        " #print(\"\\n\")    \n",
        " #for i in transform_test.keys():\n",
        "     #print(i, transform_test[i].shape)"
      ]
    },
    {
      "cell_type": "code",
      "execution_count": null,
      "id": "d55a983f-ff76-40c0-9367-a00dde855fec",
      "metadata": {
        "id": "d55a983f-ff76-40c0-9367-a00dde855fec"
      },
      "outputs": [],
      "source": [
        "from sklearn.linear_model import LogisticRegression\n",
        "\n",
        "X_train = data_train.iloc[:, [1, -3]].values\n",
        "y_train = data_train.iloc[:, -1].values\n",
        "X_test = data_test.iloc[:, [1, -3]].values\n",
        "y_test = data_test.iloc[:, -1].values"
      ]
    },
    {
      "cell_type": "code",
      "execution_count": null,
      "id": "140e25b8-e96c-4ebd-9e70-b37dd35d4a04",
      "metadata": {
        "colab": {
          "base_uri": "https://localhost:8080/"
        },
        "id": "140e25b8-e96c-4ebd-9e70-b37dd35d4a04",
        "outputId": "e7aafe30-500e-4a07-d01a-529cc9868e02"
      },
      "outputs": [
        {
          "output_type": "execute_result",
          "data": {
            "text/plain": [
              "(98, 2)"
            ]
          },
          "metadata": {},
          "execution_count": 50
        }
      ],
      "source": [
        "X_test.shape"
      ]
    },
    {
      "cell_type": "code",
      "execution_count": null,
      "id": "2b376321-87ab-48df-811d-8be5f87d581c",
      "metadata": {
        "colab": {
          "base_uri": "https://localhost:8080/"
        },
        "id": "2b376321-87ab-48df-811d-8be5f87d581c",
        "outputId": "ee533fd9-cf84-4c24-ed48-e2812e4aa0d7"
      },
      "outputs": [
        {
          "output_type": "execute_result",
          "data": {
            "text/plain": [
              "(98,)"
            ]
          },
          "metadata": {},
          "execution_count": 51
        }
      ],
      "source": [
        "y_test.shape"
      ]
    },
    {
      "cell_type": "code",
      "execution_count": null,
      "id": "47571e0a-5cad-4a8e-99e4-bad9a7cb55cc",
      "metadata": {
        "colab": {
          "base_uri": "https://localhost:8080/"
        },
        "id": "47571e0a-5cad-4a8e-99e4-bad9a7cb55cc",
        "outputId": "8bd4f90a-6a7e-440a-c750-ebb57a6ad285"
      },
      "outputs": [
        {
          "output_type": "execute_result",
          "data": {
            "text/plain": [
              "LogisticRegression()"
            ]
          },
          "metadata": {},
          "execution_count": 52
        }
      ],
      "source": [
        "logisticRegr = LogisticRegression()\n",
        "logisticRegr.fit(X_train, y_train)"
      ]
    },
    {
      "cell_type": "code",
      "execution_count": null,
      "id": "2a37cb55-c4e2-44a4-97d2-97f6ed2abd58",
      "metadata": {
        "id": "2a37cb55-c4e2-44a4-97d2-97f6ed2abd58"
      },
      "outputs": [],
      "source": [
        "y_pred = logisticRegr.predict(X_test)"
      ]
    },
    {
      "cell_type": "code",
      "execution_count": null,
      "id": "b9316a64-3533-417c-977b-558601175090",
      "metadata": {
        "colab": {
          "base_uri": "https://localhost:8080/"
        },
        "id": "b9316a64-3533-417c-977b-558601175090",
        "outputId": "71c78569-8c8e-42d5-e4bb-74c30a50bace"
      },
      "outputs": [
        {
          "output_type": "stream",
          "name": "stdout",
          "text": [
            "The balanced accuracy is 0.5.\n"
          ]
        }
      ],
      "source": [
        "from sklearn.metrics import balanced_accuracy_score\n",
        "def return_balanced_acc(test,predicted):\n",
        "    balanced_acc = balanced_accuracy_score(test, predicted)\n",
        "    print(\"The balanced accuracy is {}.\".format(balanced_acc))\n",
        "    \n",
        "return_balanced_acc(y_test,y_pred)"
      ]
    },
    {
      "cell_type": "code",
      "execution_count": null,
      "id": "85f8dbe2-8961-41ba-9811-15b34c914e83",
      "metadata": {
        "id": "85f8dbe2-8961-41ba-9811-15b34c914e83"
      },
      "outputs": [],
      "source": []
    }
  ],
  "metadata": {
    "environment": {
      "kernel": "python3",
      "name": "common-cpu.m96",
      "type": "gcloud",
      "uri": "gcr.io/deeplearning-platform-release/base-cpu:m96"
    },
    "kernelspec": {
      "display_name": "Python 3 (ipykernel)",
      "language": "python",
      "name": "python3"
    },
    "language_info": {
      "codemirror_mode": {
        "name": "ipython",
        "version": 3
      },
      "file_extension": ".py",
      "mimetype": "text/x-python",
      "name": "python",
      "nbconvert_exporter": "python",
      "pygments_lexer": "ipython3",
      "version": "3.9.12"
    },
    "colab": {
      "provenance": [],
      "include_colab_link": true
    }
  },
  "nbformat": 4,
  "nbformat_minor": 5
}